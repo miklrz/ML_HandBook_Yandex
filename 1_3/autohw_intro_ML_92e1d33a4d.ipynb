{
 "cells": [
  {
   "cell_type": "markdown",
   "metadata": {
    "id": "k3zbLLaSGH6Z"
   },
   "source": [
    "## Лабораторная работа \"Введение в ML\""
   ]
  },
  {
   "cell_type": "markdown",
   "metadata": {
    "id": "SL3v975uGH6h"
   },
   "source": [
    "В этой лабораторной вы:\n",
    "\n",
    "- познакомитесь с базовыми библиотеками для работы с табличными данными — `numpy` и `pandas`\n",
    "- поближе посмотрите на простейшие задачи машинного обучения: классификацию и регрессию\n",
    "- попробуете несколько метрик и поймёте, почему выбор метрики это важно\n",
    "- обучите несколько простых моделей\n",
    "- увидите связь между сложностью модели и переобучением\n",
    "- убедитесь, что без данных всё тлен"
   ]
  },
  {
   "cell_type": "markdown",
   "metadata": {
    "id": "ad3nBqBSGH6j"
   },
   "source": [
    "Загрузка самых базовых библиотек:"
   ]
  },
  {
   "cell_type": "code",
   "metadata": {
    "id": "Z8Iht5qhGH6l",
    "ExecuteTime": {
     "end_time": "2024-12-19T09:55:46.335782Z",
     "start_time": "2024-12-19T09:55:46.323156Z"
    }
   },
   "source": [
    "import numpy as np\n",
    "import pandas as pd\n",
    "import matplotlib.pyplot as plt\n",
    "%matplotlib inline\n",
    "\n",
    "from sklearn.model_selection import train_test_split"
   ],
   "outputs": [],
   "execution_count": 14
  },
  {
   "cell_type": "markdown",
   "metadata": {
    "id": "4W8Eq0sTGH6n"
   },
   "source": [
    "### [NumPy](https://numpy.org/doc/stable/user/index.html)\n",
    "\n",
    "С 1995 numeric, с 2006 NumPy — «Numerical Python extensions» или просто «NumPy»\n",
    "\n",
    "Возможности библиотеки NumPy:\n",
    "* работать с многомерными массивами (таблицами)\n",
    "* быстро вычислять математические функций на многомерных массивах\n",
    "\n",
    "Ядро пакета NumPy — объект [ndarray](https://docs.scipy.org/doc/numpy/reference/generated/numpy.ndarray.html)\n",
    "\n",
    "**Важные отличия** между NumPy arrays и Python sequences:\n",
    "* NumPy array имеет фиксированную длину, которая определяется в момент его создания (в отличие от Python lists, которые могут расти динамически)\n",
    "* Элементы в NumPy array должны быть одного типа\n",
    "* Можно выполнять операции непосредственно над NumPy arrays\n",
    "\n",
    "**Скорость** NumPy достигается с помощью:\n",
    "* реализации на C\n",
    "* векторизации и броадкастинга (broadcasting). Например, произведение массивов совместимых форм.\n",
    "\n",
    "Теперь давайте разберёмся подробнее и сделаем что-нибудь приятное и полезное в `numpy`!"
   ]
  },
  {
   "cell_type": "markdown",
   "metadata": {
    "id": "eS3UKcU6GH6o"
   },
   "source": [
    "### Индексация"
   ]
  },
  {
   "cell_type": "markdown",
   "metadata": {
    "id": "VqBzoEfvGH6p"
   },
   "source": [
    "В NumPy работает привычная индексация Python, ура! Включая использование отрицательных индексов и срезов (slices)"
   ]
  },
  {
   "cell_type": "markdown",
   "metadata": {
    "id": "Anq_nSYTGH6q"
   },
   "source": [
    "<div class=\"alert alert-info\">\n",
    "<b>Замечание 1:</b> Индексы и срезы в многомерных массивах не нужно разделять квадратными скобками,\n",
    "т.е. вместо <b>matrix[i][j]</b> нужно использовать <b>matrix[i, j]</b>. Первое тоже работает, но сначала выдаёт строку i, потом элемент j в ней.\n",
    "</div>"
   ]
  },
  {
   "cell_type": "markdown",
   "metadata": {
    "id": "OoHXSVIrGH6q"
   },
   "source": [
    "<div class=\"alert alert-danger\">\n",
    "<b>Замечание 2:</b> Срезы в NumPy создают view, а не копии, как в случае срезов встроенных последовательностей Python (string, tuple and list).\n",
    "</div>"
   ]
  },
  {
   "cell_type": "code",
   "metadata": {
    "id": "YJKxBB4dGH6s",
    "outputId": "61139b1d-46db-4f7f-d5bb-96b7c3f96284",
    "ExecuteTime": {
     "end_time": "2024-12-19T09:55:46.414386Z",
     "start_time": "2024-12-19T09:55:46.398340Z"
    }
   },
   "source": [
    "ones_matrix = np.ones((5, 5))\n",
    "ones_submatrix_view = ones_matrix[::2,::2] # creates a view, not copy\n",
    "ones_matrix[::2,::2] = np.zeros((3, 3))\n",
    "ones_submatrix_view"
   ],
   "outputs": [
    {
     "data": {
      "text/plain": [
       "array([[0., 0., 0.],\n",
       "       [0., 0., 0.],\n",
       "       [0., 0., 0.]])"
      ]
     },
     "execution_count": 15,
     "metadata": {},
     "output_type": "execute_result"
    }
   ],
   "execution_count": 15
  },
  {
   "cell_type": "markdown",
   "metadata": {
    "id": "jpEF1rp2GH6v"
   },
   "source": [
    "### Ссылка на Яндекс.Контест\n",
    "\n",
    "Решения и ответы в задачах, расположенных ниже, загружайте в контест на автоматическую проверку:\n",
    "https://new.contest.yandex.ru/60376/start\n"
   ]
  },
  {
   "cell_type": "markdown",
   "metadata": {
    "id": "eZpuxPhJGH6v"
   },
   "source": [
    "**1.** Реализуйте функцию, принимающую на вход два одномерных массива `first_array` и `second_array` и возвращающую матрицу, в которой первый массив соответствует первому столбцу матрицы, второй — второму.\n",
    "\n",
    "Вероятно первое, что приходит вам на ум, это конкатенация и транспонирование:"
   ]
  },
  {
   "cell_type": "code",
   "metadata": {
    "id": "hmQk1N6rGH6w",
    "ExecuteTime": {
     "end_time": "2024-12-19T09:55:46.580885Z",
     "start_time": "2024-12-19T09:55:46.569346Z"
    }
   },
   "source": [
    "def construct_matrix(first_array, second_array):\n",
    "    \"\"\"\n",
    "    Construct matrix from pair of arrays\n",
    "    :param first_array: first array\n",
    "    :param second_array: second array\n",
    "    :return: constructed matrix\n",
    "    \"\"\"\n",
    "    return np.dstack([first_array, second_array]) # <- your first right code here"
   ],
   "outputs": [],
   "execution_count": 16
  },
  {
   "cell_type": "code",
   "metadata": {
    "id": "TeFqyCz4GH6x",
    "outputId": "ecd0b7d3-7acf-40f2-878e-057d17136e8c",
    "scrolled": true,
    "ExecuteTime": {
     "end_time": "2024-12-19T09:55:46.718366Z",
     "start_time": "2024-12-19T09:55:46.706445Z"
    }
   },
   "source": [
    "construct_matrix(np.array([1,2]),np.array([3,4]))"
   ],
   "outputs": [
    {
     "data": {
      "text/plain": [
       "array([[[1, 3],\n",
       "        [2, 4]]])"
      ]
     },
     "execution_count": 17,
     "metadata": {},
     "output_type": "execute_result"
    }
   ],
   "execution_count": 17
  },
  {
   "cell_type": "markdown",
   "metadata": {
    "id": "lP-lmcA2GH6y"
   },
   "source": [
    "(в скобках заметим, что конкатенировать можно vertically, horizontally, depth wise методами vstack, hstack, dstack по трём осям (0, 1 и 2, соотвественно), либо в общем случае `np.concatenate` — поиграйтесь ниже с прекрасным примером четырёхмерной точки, чтобы точно всё для себя понять)"
   ]
  },
  {
   "cell_type": "code",
   "metadata": {
    "ExecuteTime": {
     "end_time": "2024-12-19T09:55:46.979544Z",
     "start_time": "2024-12-19T09:55:46.972630Z"
    }
   },
   "source": [],
   "outputs": [],
   "execution_count": null
  },
  {
   "cell_type": "code",
   "metadata": {
    "id": "xguxLJ0VGH6y",
    "outputId": "2f32df14-6f5d-4800-96b5-bb8fba9c9ec0",
    "ExecuteTime": {
     "end_time": "2024-12-19T09:55:47.166608Z",
     "start_time": "2024-12-19T09:55:47.150652Z"
    }
   },
   "source": [
    "p = np.arange(1).reshape([1, 1, 1, 1])\n",
    "p"
   ],
   "outputs": [
    {
     "data": {
      "text/plain": [
       "array([[[[0]]]])"
      ]
     },
     "execution_count": 18,
     "metadata": {},
     "output_type": "execute_result"
    }
   ],
   "execution_count": 18
  },
  {
   "cell_type": "code",
   "metadata": {
    "ExecuteTime": {
     "end_time": "2024-12-19T09:55:47.352051Z",
     "start_time": "2024-12-19T09:55:47.335939Z"
    }
   },
   "source": [
    "print(np.vstack((p, p)),end='\\n---\\n')\n",
    "print(np.hstack((p, p)),end='\\n---\\n')\n",
    "print(np.dstack((p, p)),end='\\n---\\n')"
   ],
   "outputs": [
    {
     "name": "stdout",
     "output_type": "stream",
     "text": [
      "[[[[0]]]\n",
      "\n",
      "\n",
      " [[[0]]]]\n",
      "---\n",
      "[[[[0]]\n",
      "\n",
      "  [[0]]]]\n",
      "---\n",
      "[[[[0]\n",
      "   [0]]]]\n",
      "---\n"
     ]
    }
   ],
   "execution_count": 19
  },
  {
   "cell_type": "code",
   "metadata": {
    "id": "z1JFw75eGH6y",
    "outputId": "16e3c894-2e0e-4a5a-edd4-7a974cfa43e4",
    "ExecuteTime": {
     "end_time": "2024-12-19T09:55:47.454349Z",
     "start_time": "2024-12-19T09:55:47.443422Z"
    }
   },
   "source": [
    "print(\"vstack: \", np.vstack((p, p)).shape)\n",
    "print(\"hstack: \", np.hstack((p, p)).shape)\n",
    "print(\"dstack: \", np.dstack((p, p)).shape)"
   ],
   "outputs": [
    {
     "name": "stdout",
     "output_type": "stream",
     "text": [
      "vstack:  (2, 1, 1, 1)\n",
      "hstack:  (1, 2, 1, 1)\n",
      "dstack:  (1, 1, 2, 1)\n"
     ]
    }
   ],
   "execution_count": 20
  },
  {
   "cell_type": "code",
   "metadata": {
    "id": "cvbthbDDGH6z",
    "outputId": "d89430e5-8c64-4b5f-f2b3-4343f4c659ed",
    "ExecuteTime": {
     "end_time": "2024-12-19T09:55:47.561389Z",
     "start_time": "2024-12-19T09:55:47.550903Z"
    }
   },
   "source": [
    "np.concatenate((p, p), axis=3).shape"
   ],
   "outputs": [
    {
     "data": {
      "text/plain": [
       "(1, 1, 1, 2)"
      ]
     },
     "execution_count": 21,
     "metadata": {},
     "output_type": "execute_result"
    }
   ],
   "execution_count": 21
  },
  {
   "cell_type": "markdown",
   "metadata": {
    "id": "-5GkuWwaGH60"
   },
   "source": [
    "Но, поскольку операция транспонирования [делает массив non-contiguous](https://numpy.org/doc/stable/user/basics.copies.html#other-operations), мы в этой задаче **запретим** ей пользоваться и порекомедуем воспользоваться, например, методом [reshape](https://numpy.org/doc/stable/reference/generated/numpy.reshape.html)."
   ]
  },
  {
   "cell_type": "markdown",
   "metadata": {
    "id": "n3ce_o75GH61"
   },
   "source": [
    "**2.** Реализуйте функцию, принимающую на вход массив целых неотрицательных чисел `nums` и возвращающую самый частый элемент массива."
   ]
  },
  {
   "cell_type": "code",
   "metadata": {
    "id": "XZysMovaGH61",
    "ExecuteTime": {
     "end_time": "2024-12-19T09:55:47.631420Z",
     "start_time": "2024-12-19T09:55:47.625156Z"
    }
   },
   "source": [
    "def most_frequent(nums):\n",
    "    \"\"\"\n",
    "    Find the most frequent value in an array\n",
    "    :param nums: array of ints\n",
    "    :return: the most frequent value\n",
    "    \"\"\"\n",
    "    return np.bincount(arr).argmax()\n",
    "    "
   ],
   "outputs": [],
   "execution_count": 22
  },
  {
   "cell_type": "code",
   "metadata": {
    "ExecuteTime": {
     "end_time": "2024-12-19T09:55:47.746639Z",
     "start_time": "2024-12-19T09:55:47.736661Z"
    }
   },
   "source": [
    "arr = np.array([1,5,6,5,5])\n",
    "most_frequent(arr)"
   ],
   "outputs": [
    {
     "data": {
      "text/plain": [
       "5"
      ]
     },
     "execution_count": 23,
     "metadata": {},
     "output_type": "execute_result"
    }
   ],
   "execution_count": 23
  },
  {
   "cell_type": "markdown",
   "metadata": {
    "id": "e6kjITZMGH62"
   },
   "source": [
    "### Переходим к работе с данными\n",
    "\n",
    "Прежде всего, загрузим данные и сделаем из них красивые pandas-таблички. Они взяты из параллели RecSys соревнования https://yandex.ru/cup/ml/. Но мы будем иметь дело не со всеми данными, а только с их частью. Данные у нас будут про заведения общественного питания (больше бюрократический терминологии!)\n",
    "\n",
    "Файлы с данными можно найти [здесь](https://disk.yandex.ru/d/YWvCNRQMb7QSQA).\n",
    "\n",
    "Задачей будет **предсказание среднего чека** (average_bill) по некоторым другим свойствам заведения."
   ]
  },
  {
   "metadata": {
    "ExecuteTime": {
     "end_time": "2024-12-19T09:55:47.804260Z",
     "start_time": "2024-12-19T09:55:47.796609Z"
    }
   },
   "cell_type": "code",
   "source": "base = 'data/'",
   "outputs": [],
   "execution_count": 24
  },
  {
   "metadata": {
    "ExecuteTime": {
     "end_time": "2024-12-19T09:55:48.076826Z",
     "start_time": "2024-12-19T09:55:47.865624Z"
    }
   },
   "cell_type": "code",
   "source": [
    "data = pd.read_csv(base + 'organisations.csv')\n",
    "features = pd.read_csv(base + 'features.csv')\n",
    "rubrics = pd.read_csv(base + 'rubrics.csv')"
   ],
   "outputs": [],
   "execution_count": 25
  },
  {
   "cell_type": "markdown",
   "metadata": {
    "id": "k-AwDM7bGH63"
   },
   "source": [
    "В основном мы будем работать с табличкой `data`; остальное вам может пригодиться, если вы захотите знать, какое содержание стоит за кодами признаков."
   ]
  },
  {
   "cell_type": "markdown",
   "metadata": {
    "id": "4hrvEN_3GH63"
   },
   "source": [
    "## Изучение данных"
   ]
  },
  {
   "cell_type": "markdown",
   "metadata": {
    "id": "PI9YQMuCGH63"
   },
   "source": [
    "Посмотрите на данные. В этом вам поможет метод ``head`` pandas-таблички."
   ]
  },
  {
   "cell_type": "code",
   "metadata": {
    "id": "VA_0DG29GH64",
    "ExecuteTime": {
     "end_time": "2024-12-19T09:55:48.145605Z",
     "start_time": "2024-12-19T09:55:48.127353Z"
    }
   },
   "source": [
    "# <Your code here>\n",
    "data.head()"
   ],
   "outputs": [
    {
     "data": {
      "text/plain": [
       "                 org_id city  average_bill    rating   rubrics_id  \\\n",
       "0  15903868628669802651  msk        1500.0  4.270968  30776 30774   \n",
       "1  16076540698036998306  msk         500.0  4.375000        30771   \n",
       "2   8129364761615040323  msk         500.0  4.000000        31495   \n",
       "3  15262729117594253452  msk         500.0  4.538813  30776 30770   \n",
       "4  13418544315327784420  msk         500.0  4.409091        31495   \n",
       "\n",
       "                                                                                                                                                                                                                                                                                                                                         features_id  \n",
       "0  3501685156 3501779478 20422 3502045016 3502045032 3501618484 11177 11012 2020795524 10894 3501599541 12048 10462 1524 1509 3501498187 11867 1416 3501744275 3501942428 273469383 11704 1189498238 20424 21247 3501481353 3491142672 3501481355 1082283206 11741 3501471642 3501498186 11629 11617 10886 1415 3501513153 1018 246 3501749289 11531  \n",
       "1                                                                                                                                                                                                                                                             1509 1082283206 273469383 10462 11617 3501779478 3501744275 1524 1018 1116173086 20422  \n",
       "2                                                                                                                                                                                                                                                     10462 11177 11617 11629 1416 1018 11704 11867 3501744275 20282 3502045016 273469383 3502045032  \n",
       "3                                                                                                                                                                                                                                                           3501618484 2020795524 11629 11617 1018 11704 21247 11867 246 20422 1416 3501749289 20305  \n",
       "4                                                                                                                                                                                                                                                     11617 10462 11177 1416 11867 3501744275 20282 3502045016 11629 273469383 3502045032 1018 11704  "
      ],
      "text/html": [
       "<div>\n",
       "<style scoped>\n",
       "    .dataframe tbody tr th:only-of-type {\n",
       "        vertical-align: middle;\n",
       "    }\n",
       "\n",
       "    .dataframe tbody tr th {\n",
       "        vertical-align: top;\n",
       "    }\n",
       "\n",
       "    .dataframe thead th {\n",
       "        text-align: right;\n",
       "    }\n",
       "</style>\n",
       "<table border=\"1\" class=\"dataframe\">\n",
       "  <thead>\n",
       "    <tr style=\"text-align: right;\">\n",
       "      <th></th>\n",
       "      <th>org_id</th>\n",
       "      <th>city</th>\n",
       "      <th>average_bill</th>\n",
       "      <th>rating</th>\n",
       "      <th>rubrics_id</th>\n",
       "      <th>features_id</th>\n",
       "    </tr>\n",
       "  </thead>\n",
       "  <tbody>\n",
       "    <tr>\n",
       "      <th>0</th>\n",
       "      <td>15903868628669802651</td>\n",
       "      <td>msk</td>\n",
       "      <td>1500.0</td>\n",
       "      <td>4.270968</td>\n",
       "      <td>30776 30774</td>\n",
       "      <td>3501685156 3501779478 20422 3502045016 3502045032 3501618484 11177 11012 2020795524 10894 3501599541 12048 10462 1524 1509 3501498187 11867 1416 3501744275 3501942428 273469383 11704 1189498238 20424 21247 3501481353 3491142672 3501481355 1082283206 11741 3501471642 3501498186 11629 11617 10886 1415 3501513153 1018 246 3501749289 11531</td>\n",
       "    </tr>\n",
       "    <tr>\n",
       "      <th>1</th>\n",
       "      <td>16076540698036998306</td>\n",
       "      <td>msk</td>\n",
       "      <td>500.0</td>\n",
       "      <td>4.375000</td>\n",
       "      <td>30771</td>\n",
       "      <td>1509 1082283206 273469383 10462 11617 3501779478 3501744275 1524 1018 1116173086 20422</td>\n",
       "    </tr>\n",
       "    <tr>\n",
       "      <th>2</th>\n",
       "      <td>8129364761615040323</td>\n",
       "      <td>msk</td>\n",
       "      <td>500.0</td>\n",
       "      <td>4.000000</td>\n",
       "      <td>31495</td>\n",
       "      <td>10462 11177 11617 11629 1416 1018 11704 11867 3501744275 20282 3502045016 273469383 3502045032</td>\n",
       "    </tr>\n",
       "    <tr>\n",
       "      <th>3</th>\n",
       "      <td>15262729117594253452</td>\n",
       "      <td>msk</td>\n",
       "      <td>500.0</td>\n",
       "      <td>4.538813</td>\n",
       "      <td>30776 30770</td>\n",
       "      <td>3501618484 2020795524 11629 11617 1018 11704 21247 11867 246 20422 1416 3501749289 20305</td>\n",
       "    </tr>\n",
       "    <tr>\n",
       "      <th>4</th>\n",
       "      <td>13418544315327784420</td>\n",
       "      <td>msk</td>\n",
       "      <td>500.0</td>\n",
       "      <td>4.409091</td>\n",
       "      <td>31495</td>\n",
       "      <td>11617 10462 11177 1416 11867 3501744275 20282 3502045016 11629 273469383 3502045032 1018 11704</td>\n",
       "    </tr>\n",
       "  </tbody>\n",
       "</table>\n",
       "</div>"
      ]
     },
     "execution_count": 26,
     "metadata": {},
     "output_type": "execute_result"
    }
   ],
   "execution_count": 26
  },
  {
   "cell_type": "code",
   "metadata": {
    "scrolled": true,
    "ExecuteTime": {
     "end_time": "2024-12-19T09:55:48.298388Z",
     "start_time": "2024-12-19T09:55:48.284396Z"
    }
   },
   "source": [
    "features.head()"
   ],
   "outputs": [
    {
     "data": {
      "text/plain": [
       "   feature_id                           feature_name\n",
       "0           1  prepress_and_post_printing_processing\n",
       "1          40                               products\n",
       "2          54                        printing_method\n",
       "3          77                                   fuel\n",
       "4          79                                   shop"
      ],
      "text/html": [
       "<div>\n",
       "<style scoped>\n",
       "    .dataframe tbody tr th:only-of-type {\n",
       "        vertical-align: middle;\n",
       "    }\n",
       "\n",
       "    .dataframe tbody tr th {\n",
       "        vertical-align: top;\n",
       "    }\n",
       "\n",
       "    .dataframe thead th {\n",
       "        text-align: right;\n",
       "    }\n",
       "</style>\n",
       "<table border=\"1\" class=\"dataframe\">\n",
       "  <thead>\n",
       "    <tr style=\"text-align: right;\">\n",
       "      <th></th>\n",
       "      <th>feature_id</th>\n",
       "      <th>feature_name</th>\n",
       "    </tr>\n",
       "  </thead>\n",
       "  <tbody>\n",
       "    <tr>\n",
       "      <th>0</th>\n",
       "      <td>1</td>\n",
       "      <td>prepress_and_post_printing_processing</td>\n",
       "    </tr>\n",
       "    <tr>\n",
       "      <th>1</th>\n",
       "      <td>40</td>\n",
       "      <td>products</td>\n",
       "    </tr>\n",
       "    <tr>\n",
       "      <th>2</th>\n",
       "      <td>54</td>\n",
       "      <td>printing_method</td>\n",
       "    </tr>\n",
       "    <tr>\n",
       "      <th>3</th>\n",
       "      <td>77</td>\n",
       "      <td>fuel</td>\n",
       "    </tr>\n",
       "    <tr>\n",
       "      <th>4</th>\n",
       "      <td>79</td>\n",
       "      <td>shop</td>\n",
       "    </tr>\n",
       "  </tbody>\n",
       "</table>\n",
       "</div>"
      ]
     },
     "execution_count": 27,
     "metadata": {},
     "output_type": "execute_result"
    }
   ],
   "execution_count": 27
  },
  {
   "cell_type": "code",
   "metadata": {
    "ExecuteTime": {
     "end_time": "2024-12-19T09:55:48.438444Z",
     "start_time": "2024-12-19T09:55:48.423330Z"
    }
   },
   "source": [
    "rubrics.head()"
   ],
   "outputs": [
    {
     "data": {
      "text/plain": [
       "   rubric_id        rubric_name\n",
       "0      30519  Булочная, пекарня\n",
       "1      30770           Бар, паб\n",
       "2      30771    Быстрое питание\n",
       "3      30774               Кафе\n",
       "4      30775           Пиццерия"
      ],
      "text/html": [
       "<div>\n",
       "<style scoped>\n",
       "    .dataframe tbody tr th:only-of-type {\n",
       "        vertical-align: middle;\n",
       "    }\n",
       "\n",
       "    .dataframe tbody tr th {\n",
       "        vertical-align: top;\n",
       "    }\n",
       "\n",
       "    .dataframe thead th {\n",
       "        text-align: right;\n",
       "    }\n",
       "</style>\n",
       "<table border=\"1\" class=\"dataframe\">\n",
       "  <thead>\n",
       "    <tr style=\"text-align: right;\">\n",
       "      <th></th>\n",
       "      <th>rubric_id</th>\n",
       "      <th>rubric_name</th>\n",
       "    </tr>\n",
       "  </thead>\n",
       "  <tbody>\n",
       "    <tr>\n",
       "      <th>0</th>\n",
       "      <td>30519</td>\n",
       "      <td>Булочная, пекарня</td>\n",
       "    </tr>\n",
       "    <tr>\n",
       "      <th>1</th>\n",
       "      <td>30770</td>\n",
       "      <td>Бар, паб</td>\n",
       "    </tr>\n",
       "    <tr>\n",
       "      <th>2</th>\n",
       "      <td>30771</td>\n",
       "      <td>Быстрое питание</td>\n",
       "    </tr>\n",
       "    <tr>\n",
       "      <th>3</th>\n",
       "      <td>30774</td>\n",
       "      <td>Кафе</td>\n",
       "    </tr>\n",
       "    <tr>\n",
       "      <th>4</th>\n",
       "      <td>30775</td>\n",
       "      <td>Пиццерия</td>\n",
       "    </tr>\n",
       "  </tbody>\n",
       "</table>\n",
       "</div>"
      ]
     },
     "execution_count": 28,
     "metadata": {},
     "output_type": "execute_result"
    }
   ],
   "execution_count": 28
  },
  {
   "cell_type": "markdown",
   "metadata": {
    "id": "GN9kZbURGH64"
   },
   "source": [
    "Полезно посмотреть внимательнее на то, с какими признаками нам предстоит работать.\n",
    "\n",
    "* **org_id** вам не понадобится;\n",
    "* **city** - город, в котором находится заведение (``msk`` или ``spb``);\n",
    "* **average_bill** - средний чек в заведении - он будет нашим таргетом;\n",
    "* **rating** - рейтинг заведения;\n",
    "* **rubrics_id** - тип заведения (или несколько типов). Соответствие кодов каким-то человекочитаемым типам живёт в табличке ``rubrics``\n",
    "* **features_id** - набор неких фичей заведения. Соответствие кодов каким-то человекочитаемым типам живёт в табличке ``features``\n",
    "\n",
    "Обратите внимание, что **rubrics_id** и **features_id** - это не списки, а разделённые пробелами строки. Когда вам захочется работать с отдельными фичами из мешка фичей для данного заведения, вам придётся всё-таки превратить их в списки (здесь поможет метод `split` для строк)."
   ]
  },
  {
   "cell_type": "markdown",
   "metadata": {
    "id": "J0IJIWz3GH64"
   },
   "source": [
    "Чтобы быстро восстанавливать по рубрикам и фичам их нормальные названия, сделайте словари вида ``код_фичи:название_фичи``"
   ]
  },
  {
   "cell_type": "code",
   "metadata": {
    "id": "8KwKEKr7GH65",
    "ExecuteTime": {
     "end_time": "2024-12-19T09:55:48.841826Z",
     "start_time": "2024-12-19T09:55:48.824377Z"
    }
   },
   "source": [
    "# <Your code here>\n",
    "rubric_dict = rubrics.set_index('rubric_id').to_dict()\n",
    "feature_dict = features.set_index('feature_id').to_dict()"
   ],
   "outputs": [],
   "execution_count": 29
  },
  {
   "cell_type": "markdown",
   "metadata": {
    "id": "DNd4PkyQGH65"
   },
   "source": [
    "Посмотрим, какими бывают типы заведений:"
   ]
  },
  {
   "cell_type": "code",
   "metadata": {
    "collapsed": true,
    "id": "8WhaPPEeGH65",
    "jupyter": {
     "outputs_hidden": true
    },
    "outputId": "aaf9cc8c-64ae-4bac-d8f8-6dd4d03033d8",
    "ExecuteTime": {
     "end_time": "2024-12-19T09:55:49.162447Z",
     "start_time": "2024-12-19T09:55:49.149700Z"
    }
   },
   "source": [
    "rubric_dict"
   ],
   "outputs": [
    {
     "data": {
      "text/plain": [
       "{'rubric_name': {30519: 'Булочная, пекарня',\n",
       "  30770: 'Бар, паб',\n",
       "  30771: 'Быстрое питание',\n",
       "  30774: 'Кафе',\n",
       "  30775: 'Пиццерия',\n",
       "  30776: 'Ресторан',\n",
       "  30777: 'Столовая',\n",
       "  31286: 'Спортбар',\n",
       "  31350: 'Кондитерская',\n",
       "  31375: 'Суши-бар',\n",
       "  31401: 'Кальян-бар',\n",
       "  31495: 'Кофейня',\n",
       "  3108292683: 'Бар безалкогольных напитков',\n",
       "  3501514558: 'Фудкорт',\n",
       "  3501750896: 'Кофе с собой'}}"
      ]
     },
     "execution_count": 30,
     "metadata": {},
     "output_type": "execute_result"
    }
   ],
   "execution_count": 30
  },
  {
   "cell_type": "code",
   "metadata": {
    "collapsed": true,
    "jupyter": {
     "outputs_hidden": true
    },
    "ExecuteTime": {
     "end_time": "2024-12-19T09:55:49.610647Z",
     "start_time": "2024-12-19T09:55:49.566427Z"
    }
   },
   "source": [
    "feature_dict"
   ],
   "outputs": [
    {
     "data": {
      "text/plain": [
       "{'feature_name': {1: 'prepress_and_post_printing_processing',\n",
       "  40: 'products',\n",
       "  54: 'printing_method',\n",
       "  77: 'fuel',\n",
       "  79: 'shop',\n",
       "  82: 'last_minute_deals_only',\n",
       "  104: 'tour_type',\n",
       "  110: 'audio_guide',\n",
       "  111: 'cargo_transportation',\n",
       "  113: 'manufacturing',\n",
       "  114: 'installation',\n",
       "  115: 'repairs',\n",
       "  116: 'production',\n",
       "  117: 'sale',\n",
       "  133: 'music_genre',\n",
       "  135: 'electroniccigarette',\n",
       "  137: 'variety_food',\n",
       "  140: 'room_disabled',\n",
       "  175: 'arts',\n",
       "  246: 'karaoke',\n",
       "  249: 'street_theatre',\n",
       "  253: 'performance',\n",
       "  256: 'vip_zone',\n",
       "  270: 'money_transfers',\n",
       "  275: 'loans_private_individuals',\n",
       "  282: 'sober_driver',\n",
       "  288: 'accepted_credit_cards',\n",
       "  305: 'refrigerator',\n",
       "  308: 'minibar',\n",
       "  312: 'room_number',\n",
       "  328: 'speciality',\n",
       "  337: 'type_of_rooms',\n",
       "  344: 'building_repair',\n",
       "  349: 'hospital_profile',\n",
       "  354: 'type_parking',\n",
       "  372: 'services_corporate_clients',\n",
       "  379: 'currency_exchange',\n",
       "  392: 'debit_cards',\n",
       "  402: 'improving_driver_qualifications',\n",
       "  405: 'female_instructor',\n",
       "  409: 'medical_board',\n",
       "  425: 'training_machines',\n",
       "  427: 'target_audience',\n",
       "  433: 'business_lending',\n",
       "  444: 'has_restaurant',\n",
       "  447: 'air_conditioning',\n",
       "  536: 'country',\n",
       "  540: 'online_sales',\n",
       "  542: 'stadium_type',\n",
       "  545: 'car_valeting',\n",
       "  594: 'pro_shop',\n",
       "  598: 'body_repair',\n",
       "  601: 'car_park',\n",
       "  602: 'hair_removal',\n",
       "  636: 'imax',\n",
       "  726: 'cosmetology_services',\n",
       "  790: 'pets',\n",
       "  795: 'hotel_type',\n",
       "  803: 'massage_services',\n",
       "  873: 'leasing_registration',\n",
       "  883: '3d',\n",
       "  956: 'railway_tickets',\n",
       "  962: 'services_specialists',\n",
       "  980: 'trade_in',\n",
       "  983: 'star',\n",
       "  989: 'form_of_training',\n",
       "  995: 'staging_of_dancing_routines',\n",
       "  1018: 'food_delivery',\n",
       "  1054: 'car_wash',\n",
       "  1059: 'additional_services',\n",
       "  1070: 'official_dealer',\n",
       "  1075: 'pool',\n",
       "  1091: 'atm',\n",
       "  1104: 'loan_processing',\n",
       "  1113: 'registration_inspection',\n",
       "  1124: 'car_brand',\n",
       "  1131: 'online_recording',\n",
       "  1246: 'type_of_museum',\n",
       "  1257: 'test_drive',\n",
       "  1261: 'flights',\n",
       "  1271: 'cash_desk',\n",
       "  1413: 'sauna',\n",
       "  1415: 'nursery',\n",
       "  1416: 'type_cuisine',\n",
       "  1509: 'special_menu',\n",
       "  1524: 'type_public_catering',\n",
       "  1572: 'type_waterpark',\n",
       "  1573: 'childrens_town',\n",
       "  1575: 'water_purification_method',\n",
       "  1582: 'water_activities',\n",
       "  1587: 'wave_pool',\n",
       "  1589: 'pool_type',\n",
       "  1592: 'number_of_swimming_lanes',\n",
       "  1600: 'group_classes',\n",
       "  1627: 'gym',\n",
       "  1629: 'sport_game',\n",
       "  1651: 'martial_arts',\n",
       "  1702: 'covering',\n",
       "  1703: 'dance',\n",
       "  1753: 'hairdressing_services',\n",
       "  1783: 'types_of_tanning_beds',\n",
       "  1796: 'figure_correction',\n",
       "  1819: 'nail_procedures',\n",
       "  1840: 'for_children',\n",
       "  1877: 'vehicle_fleet',\n",
       "  1879: 'training_category',\n",
       "  1888: 'holding_of_bowling_tournaments',\n",
       "  1889: 'conducting_pool_tournaments',\n",
       "  1891: 'storage_of_client_pool_equipment',\n",
       "  1892: 'storage_of_client_bowling_equipment',\n",
       "  1893: 'billiard_school',\n",
       "  1894: 'bowling_for_children',\n",
       "  1897: 'bowling_school',\n",
       "  1900: 'wedding_dances',\n",
       "  1903: 'artists_for_events',\n",
       "  1935: 'services_veterinary_clinic',\n",
       "  1937: 'state',\n",
       "  10427: 'price_delivery',\n",
       "  10428: 'hall_capacity',\n",
       "  10429: 'price_hour',\n",
       "  10430: 'time_order',\n",
       "  10434: 'tickets',\n",
       "  10437: 'washing_zones',\n",
       "  10440: 'russian_billiard',\n",
       "  10441: 'track_length',\n",
       "  10442: 'year_of_foundation',\n",
       "  10447: 'kalyan',\n",
       "  10448: 'price_evening',\n",
       "  10449: 'price_per_hour_sauna2',\n",
       "  10450: 'price_taxi',\n",
       "  10451: 'price_per_month3',\n",
       "  10459: 'women_haircut',\n",
       "  10462: 'average_bill2',\n",
       "  10463: 'price_8',\n",
       "  10470: 'hall',\n",
       "  10480: 'cartridge',\n",
       "  10481: 'water_stuff',\n",
       "  10487: 'price_1',\n",
       "  10502: 'pool_backflow',\n",
       "  10506: 'sports_medicine',\n",
       "  10512: 'outfit',\n",
       "  10513: 'baggage_room',\n",
       "  10514: 'skate_rental',\n",
       "  10515: 'skate_sharpening',\n",
       "  10518: 'kids_club',\n",
       "  10556: 'weekend_group',\n",
       "  10557: 'language',\n",
       "  10560: 'door_type',\n",
       "  10563: 'spa',\n",
       "  10564: 'type_food',\n",
       "  10565: 'visa_support',\n",
       "  10580: 'bridal_assortment',\n",
       "  10588: 'laundry',\n",
       "  10596: 'minimum_order',\n",
       "  10597: 'natural_reservoir',\n",
       "  10600: 'admission_by_appointment',\n",
       "  10656: 'wheel_alignment',\n",
       "  10668: 'car_rental',\n",
       "  10669: 'animal_transportation',\n",
       "  10676: 'kindergarden_features',\n",
       "  10718: 'clothes_and_shoe_repairs',\n",
       "  10722: 'beauty_salon',\n",
       "  10744: 'dry_cleaners_',\n",
       "  10746: 'shop_types',\n",
       "  10760: 'regions_of_the_world',\n",
       "  10768: 'home_visit',\n",
       "  10770: 'face_control',\n",
       "  10782: 'auto_sales',\n",
       "  10803: 'goods_for_animals',\n",
       "  10804: 'travel_insurance',\n",
       "  10824: 'training_duration',\n",
       "  10829: 'personal_trainer',\n",
       "  10832: 'exercises_for_pregnant_women',\n",
       "  10833: 'annual_subscription',\n",
       "  10835: 'internet_shop',\n",
       "  10836: 'urgent_printing',\n",
       "  10840: 'vip_taxi',\n",
       "  10843: 'corporate_taxi',\n",
       "  10847: 'child_seat',\n",
       "  10849: 'courier_delivery',\n",
       "  10853: 'ceremonies',\n",
       "  10859: 'airport_and_railway_transfers',\n",
       "  10870: 'dentist_services',\n",
       "  10875: 'show_program',\n",
       "  10886: 'music',\n",
       "  10888: 'chillout',\n",
       "  10894: 'dancefloor',\n",
       "  10896: 'dress_code',\n",
       "  10898: 'for_kids',\n",
       "  10900: 'billiards',\n",
       "  10912: 'delivery_medicines',\n",
       "  10921: 'trampoline',\n",
       "  10966: 'price_per_month2',\n",
       "  11006: 'piercing',\n",
       "  11012: 'cafe',\n",
       "  11022: 'solarium',\n",
       "  11032: 'childrens_fitness',\n",
       "  11082: 'car_polishing',\n",
       "  11097: 'transfer',\n",
       "  11106: 'steam',\n",
       "  11145: 'entertainment',\n",
       "  11165: 'man_haircut',\n",
       "  11167: 'tattoo',\n",
       "  11172: 'shower',\n",
       "  11177: 'breakfast',\n",
       "  11187: 'auto_insurance_type',\n",
       "  11190: 'number_of_halls',\n",
       "  11216: 'pool_tables',\n",
       "  11230: 'tire_fitting',\n",
       "  11305: 'marktet_types',\n",
       "  11389: 'mother_and_child_room',\n",
       "  11496: 'number_pool',\n",
       "  11531: 'seats',\n",
       "  11615: 'photo_studio',\n",
       "  11617: 'takeaway',\n",
       "  11629: 'summer_terrace',\n",
       "  11634: 'free_delivery',\n",
       "  11638: 'car_servicing',\n",
       "  11642: 'car_wash_type',\n",
       "  11657: 'car_waxing',\n",
       "  11658: 'tire_blacking',\n",
       "  11661: 'wheel_balancing',\n",
       "  11663: 'vulcanization',\n",
       "  11700: 'aquarium',\n",
       "  11703: 'clothes_fitting',\n",
       "  11704: 'wi_fi',\n",
       "  11705: 'tailoring',\n",
       "  11707: 'embroidery',\n",
       "  11709: 'strip',\n",
       "  11721: 'shooting',\n",
       "  11722: 'tailoring_of',\n",
       "  11731: 'photo_printing',\n",
       "  11741: 'gift_certificate',\n",
       "  11758: 'photo_processing',\n",
       "  11774: 'price_1_min',\n",
       "  11827: 'wide_format_printing',\n",
       "  11828: 'riding',\n",
       "  11830: 'implants',\n",
       "  11832: 'scarification',\n",
       "  11834: 'tongue_splitting',\n",
       "  11835: 'video_digitization',\n",
       "  11836: 'suspension',\n",
       "  11838: 'snooker_table',\n",
       "  11839: 'delivery',\n",
       "  11840: 'tattoo_training',\n",
       "  11842: 'wet_cleaning',\n",
       "  11843: 'body_art',\n",
       "  11847: 'cleaning_services',\n",
       "  11848: 'theater_type',\n",
       "  11862: 'window_and_glass_cabinet_washing',\n",
       "  11864: 'fur_coat_storage',\n",
       "  11865: 'extreme_driving',\n",
       "  11867: 'business_lunch',\n",
       "  11870: 'dress_hire_and_tailoring',\n",
       "  11878: 'dresses',\n",
       "  11881: 'wedding_planning',\n",
       "  11882: 'work_with_individuals',\n",
       "  11883: 'additional_services_cars',\n",
       "  11886: 'additional_services_gas_station',\n",
       "  11895: 'brokencars',\n",
       "  11896: 'online_photo_printing',\n",
       "  11897: 'spa_services',\n",
       "  11904: 'infrared_sauna',\n",
       "  11906: 'hydro_massage_pool',\n",
       "  11909: 'shopping_advice',\n",
       "  11912: 'pilgrimage_service',\n",
       "  11913: 'photo_shoot',\n",
       "  11915: 'terrariums',\n",
       "  11916: 'wardrobe_analysis',\n",
       "  11920: 'make_up_style',\n",
       "  11930: 'wardrobe_makeover',\n",
       "  11933: 'dry_cleaning',\n",
       "  11935: 'color_analysis',\n",
       "  11936: 'internet_in_hotel',\n",
       "  11944: 'individual_training',\n",
       "  11948: 'master_classes',\n",
       "  11951: 'elevator',\n",
       "  11953: 'training_material',\n",
       "  11957: 'yoga_for_children',\n",
       "  11959: 'number_of_attraction',\n",
       "  11961: 'bbq',\n",
       "  11963: 'yoga_lesson_programs',\n",
       "  11967: 'eye_tests',\n",
       "  11968: 'back_treatment',\n",
       "  11970: 'fishing',\n",
       "  11972: 'yoga_seminars',\n",
       "  11977: 'lagoon',\n",
       "  11978: 'for_teachers',\n",
       "  11981: 'childrens_pool',\n",
       "  11982: 'fito_bar',\n",
       "  12015: 'opticians_services',\n",
       "  12047: 'tour_operators',\n",
       "  12048: 'payment_method',\n",
       "  12172: 'restorative_program',\n",
       "  12174: 'refueling_truck',\n",
       "  12178: 'auto_gas_station',\n",
       "  12193: 'table_tennis',\n",
       "  12195: 'dressing_room',\n",
       "  12196: 'insurance_services',\n",
       "  12198: 'animation_staff',\n",
       "  12200: 'insurance_type',\n",
       "  12203: 'rental',\n",
       "  12204: 'assortment_of_cake_fillings',\n",
       "  12206: 'cakes_for_different_occasions',\n",
       "  12209: 'ice_rink',\n",
       "  12210: 'corporate_events',\n",
       "  12212: 'self_service',\n",
       "  12243: 'fuel_cards',\n",
       "  12288: 'handicraft_type',\n",
       "  12290: 'handicraft_stores',\n",
       "  12292: 'type_windows',\n",
       "  12294: 'services_windows',\n",
       "  12303: 'windows_accessories',\n",
       "  12309: 'price_room',\n",
       "  20278: 'foregn_language_children',\n",
       "  20279: 'basic_service',\n",
       "  20280: 'hall_rental',\n",
       "  20282: 'price_cup_cappuccino',\n",
       "  20283: '4dx',\n",
       "  20285: 'cooperation_with_courier_services',\n",
       "  20288: 'legal_services_in_housing',\n",
       "  20291: 'plugtype',\n",
       "  20299: 'sport_place',\n",
       "  20303: 'types_motorcycles',\n",
       "  20304: 'price_rolls',\n",
       "  20305: 'beer_price',\n",
       "  20307: 'truck_tire_service',\n",
       "  20308: 'mobile_tire_service',\n",
       "  20309: 'dry_cleaning_home',\n",
       "  20328: 'national_library',\n",
       "  20329: 'public_library',\n",
       "  20330: 'technical_library',\n",
       "  20331: 'special_library',\n",
       "  20345: 'payment_by_parkmachine',\n",
       "  20346: 'payment_by_app',\n",
       "  20365: 'authorized_service',\n",
       "  20370: 'types_of_cosmetology',\n",
       "  20399: 'sport_activities',\n",
       "  20400: 'tires_on_all_wheels',\n",
       "  20402: 'classic_female_manicure_coated',\n",
       "  20403: 'labor_time',\n",
       "  20404: 'garbage_can',\n",
       "  20405: 'toilet',\n",
       "  20407: 'preliminary_registration',\n",
       "  20411: 'the_number_of_places_in_the_room',\n",
       "  20422: 'payment_by_credit_card',\n",
       "  20424: 'price_category',\n",
       "  20440: 'object',\n",
       "  20442: 'child_psychologist',\n",
       "  20459: 'watch',\n",
       "  20461: 'wrist_watch',\n",
       "  20490: 'for_cat',\n",
       "  20522: 'direction_college',\n",
       "  20536: 'level_training',\n",
       "  20539: 'form_high_school',\n",
       "  20541: 'for_dog',\n",
       "  20583: 'privately',\n",
       "  20600: 'areas_training',\n",
       "  20642: 'bicycle_trips',\n",
       "  20643: 'price_rental',\n",
       "  20660: 'types_tires',\n",
       "  20671: 'tennis_coverage',\n",
       "  20703: 'number_lanes',\n",
       "  20711: 'cost_hiring',\n",
       "  20713: 'car_body_cleaning_cost',\n",
       "  20725: 'iceloadingreagents',\n",
       "  20730: 'services_individuals',\n",
       "  20736: 'registration_liquidation_companies',\n",
       "  20742: 'medical_certificate',\n",
       "  20745: 'price_bed',\n",
       "  20757: 'data_recovery',\n",
       "  20779: 'types_wheels',\n",
       "  20793: 'medical_diagnostics',\n",
       "  20819: 'outdoor_skating_rink',\n",
       "  20850: 'preparatory_courses',\n",
       "  20853: 'nail_artdesign',\n",
       "  20854: 'parking_tariff',\n",
       "  20864: 'anonymous_medical',\n",
       "  20875: 'medical_specialists',\n",
       "  20877: 'types_heating_systems',\n",
       "  20880: 'hogh_school_ownship',\n",
       "  20881: 'weapons',\n",
       "  20896: 'types_massage',\n",
       "  20915: 'keep_tires',\n",
       "  20939: 'manicure_bin',\n",
       "  20987: 'research_library',\n",
       "  20988: 'fitness_services',\n",
       "  21001: 'library_blind',\n",
       "  21025: 'school_direction',\n",
       "  21032: 'sport',\n",
       "  21050: 'car_repairs',\n",
       "  21063: 'specialization_clinic',\n",
       "  21068: 'school_uniform',\n",
       "  21074: 'balancerental',\n",
       "  21079: 'sport_painball',\n",
       "  21083: 'types_of_print',\n",
       "  21100: 'urgent_photo',\n",
       "  21109: 'indoor_skating_rink',\n",
       "  21110: 'types_roofing_materials',\n",
       "  21118: 'creche',\n",
       "  21121: 'night_paintball',\n",
       "  21131: 'school_paintball',\n",
       "  21149: 'sports_rent',\n",
       "  21174: 'express_delivery',\n",
       "  21177: 'photo_lab',\n",
       "  21181: 'beauty_services',\n",
       "  21186: 'open_courts_number',\n",
       "  21199: 'pedicure_bin',\n",
       "  21200: 'specialized_schools',\n",
       "  21210: 'boutique',\n",
       "  21216: 'organic_food',\n",
       "  21238: 'per_first_hour',\n",
       "  21247: 'sports_broadcasts',\n",
       "  21275: 'kinds_of_cars',\n",
       "  21299: 'pc_brand',\n",
       "  21305: 'legal_entities',\n",
       "  21319: 'music_profession',\n",
       "  21322: 'holding_tournaments',\n",
       "  21323: 'range_bike',\n",
       "  21328: 'speech_therapist',\n",
       "  21346: 'type_clock',\n",
       "  21366: 'wholesale',\n",
       "  21376: 'flour',\n",
       "  21379: 'brand_mobile',\n",
       "  21380: 'wedding_floristry',\n",
       "  21397: 'style_men',\n",
       "  21451: 'paid',\n",
       "  21462: 'winter_paintball',\n",
       "  21506: 'nail_extension_2',\n",
       "  21530: 'video_shooting',\n",
       "  21535: 'sport_school_type',\n",
       "  21546: 'free',\n",
       "  21568: 'autovinil',\n",
       "  21576: 'interior_partitions',\n",
       "  21607: 'regional_library',\n",
       "  21615: 'age_category',\n",
       "  21618: 'metal_items_repair',\n",
       "  21619: 'types_paintball_sites',\n",
       "  21620: 'type_paintball',\n",
       "  21644: 'indoor_courts_number',\n",
       "  21657: 'subscription',\n",
       "  21662: 'tire_services',\n",
       "  21707: 'vaccination',\n",
       "  21720: 'additional_services_shooting',\n",
       "  21721: 'medical_clothing',\n",
       "  139550717: 'reconstruction_year',\n",
       "  139550722: 'beach_line',\n",
       "  139550723: 'children_playground',\n",
       "  144134373: 'emergency_gas_service',\n",
       "  144134379: 'servicing_vip_clients',\n",
       "  144134385: 'aluminum_composite_panels',\n",
       "  144134386: 'forklift_trucks',\n",
       "  144134388: 'services_for_individuals',\n",
       "  144134398: 'asbestos',\n",
       "  144134399: 'repair_of_clothing',\n",
       "  144134401: 'anti_corrosion_treatment',\n",
       "  144134411: 'geodetic_works',\n",
       "  144134413: 'geological_surveying',\n",
       "  144134414: 'types_household_appliances',\n",
       "  261704114: 'limited_access',\n",
       "  261948609: 'homeopaths',\n",
       "  262454212: 'childrens_music_school',\n",
       "  262726483: 'automotive_parts',\n",
       "  263427293: 'barbecue_rent',\n",
       "  263427294: 'picnic_area',\n",
       "  263622858: 'on_beach',\n",
       "  270844457: 'conferencing_systems',\n",
       "  270844458: 'confectionary_equipment',\n",
       "  270844459: 'refuse_and_street_sweeping_vehicles',\n",
       "  270844460: 'cat_fanciers_club',\n",
       "  270844461: 'dog_club',\n",
       "  273283228: 'types_of_foods',\n",
       "  273469383: 'coffee_to_go',\n",
       "  273469384: 'running_club',\n",
       "  273726619: 'monitor_repair',\n",
       "  273863372: 'dairy_equipment',\n",
       "  273863373: 'meat_processing_equipment',\n",
       "  273863374: 'lightening_rods',\n",
       "  273863375: 'business_telephone_system',\n",
       "  273863377: 'metal_tableware',\n",
       "  273863378: 'glass_furniture',\n",
       "  273863379: 'outboard_motors',\n",
       "  273863380: 'medical_glass',\n",
       "  274202565: 'ice_cream_production_equipment',\n",
       "  274202566: 'brick_production_equipment',\n",
       "  274202567: 'real_estate_abroad',\n",
       "  275672861: 'hall_for_women',\n",
       "  277103989: 'disability_organization',\n",
       "  277103990: 'cranes',\n",
       "  277103991: 'veterans_organization',\n",
       "  279023801: 'insulation_types',\n",
       "  279198317: 'available_for_animals',\n",
       "  279198318: 'nudist_beach',\n",
       "  282978247: 'frameless_furniture',\n",
       "  283100856: 'educational_literature',\n",
       "  283679224: 'cement_production_equipment',\n",
       "  283780512: 'trading_show_windows',\n",
       "  283780513: 'monument_protection_and_restoration',\n",
       "  284707111: 'handmade_goods',\n",
       "  284787817: 'spirits',\n",
       "  284787818: 'fish_processing_equipment',\n",
       "  284787819: 'types_of_advertising',\n",
       "  285289832: 'mccafe',\n",
       "  285289833: 'mcauto',\n",
       "  285360299: 'appliance_repair',\n",
       "  285390725: 'backpacks',\n",
       "  285491484: 'orthopedic_shoes',\n",
       "  285491485: 'footwear_types',\n",
       "  285979812: 'electric_motor_repairs',\n",
       "  286637396: 'glassware',\n",
       "  286637397: 'surge_protectors',\n",
       "  286637399: 'construction',\n",
       "  286760671: 'kinds_electronics',\n",
       "  290008589: 'ultrasonic_equipment',\n",
       "  290008590: 'transformers',\n",
       "  310972649: 'management_consulting',\n",
       "  310972650: 'baking_equipment',\n",
       "  340529552: 'loyalty_card',\n",
       "  343097186: 'porcelain',\n",
       "  343400806: 'banners',\n",
       "  357035380: 'arrangement_of_fountains_and_water_bodies',\n",
       "  370891644: 'polymer_piping_systems',\n",
       "  370891875: 'protection_of_copyrights',\n",
       "  370891876: 'civil_engineering',\n",
       "  370891877: 'investment_and_development_organization',\n",
       "  370891878: 'refrigerated_transport',\n",
       "  411925571: 'cards_and_envelopes',\n",
       "  414319396: 'sky_lights',\n",
       "  421346942: 'cctv',\n",
       "  421346943: 'offices_for_rent',\n",
       "  421346944: 'rent_apartments',\n",
       "  812162416: 'service_of_carpet_cleaning',\n",
       "  840026754: 'hockey_playground',\n",
       "  840026755: 'hockey_school',\n",
       "  840026756: 'figure_skating_school',\n",
       "  840026757: 'coating_roller',\n",
       "  856448080: 'public_bath',\n",
       "  856448081: 'detectors_of_banknotes',\n",
       "  856448082: 'money_counters',\n",
       "  948581684: 'office_or_warehouse',\n",
       "  956707375: 'construction_and_design_organization',\n",
       "  976365376: 'postpay1',\n",
       "  976365377: 'high_speed_fuel_dispenser',\n",
       "  1010409666: 'stoloto',\n",
       "  1076799212: 'mcexpress',\n",
       "  1082283206: 'features_institution',\n",
       "  1116173085: 'vocal_lessons',\n",
       "  1116173086: 'around_the_clock_work1',\n",
       "  1116173087: 'self_service_kiosks',\n",
       "  1189498238: 'food_court1',\n",
       "  1602431352: 'diesel_service',\n",
       "  2020795524: 'craft_beer',\n",
       "  2995866956: 'removing_dents_without_painting',\n",
       "  3013110545: 'for_disabled_people',\n",
       "  3481212270: 'vehicle_category',\n",
       "  3481212271: 'electricity_costs',\n",
       "  3483661991: 'burger_king_cafe',\n",
       "  3483661992: 'burger_king_auto',\n",
       "  3483661993: 'kfc_cafe',\n",
       "  3483661994: 'kfc_auto',\n",
       "  3483778357: 'subscription_fee',\n",
       "  3483778358: 'parking_24h',\n",
       "  3483837590: 'parking_price',\n",
       "  3484586475: 'confession',\n",
       "  3485375347: 'gyno_cost',\n",
       "  3485438928: 'ultrasound_price',\n",
       "  3491142672: 'parking_disabled',\n",
       "  3491465406: 'privilege_tickets',\n",
       "  3491465421: 'privilege_haircut',\n",
       "  3491580623: 'hire_price_day',\n",
       "  3491623595: 'bike_rental_rate',\n",
       "  3491713232: 'doctor home visit',\n",
       "  3492024821: 'without_address',\n",
       "  3492120803: 'new_building',\n",
       "  3492120822: 'elite_real_estate',\n",
       "  3492121086: 'country_estate',\n",
       "  3492176323: 'operator_id',\n",
       "  3493051166: 'ssid',\n",
       "  3493268424: 'barbershop',\n",
       "  3500005740: 'only_pre_order',\n",
       "  3501410074: 'azs_number',\n",
       "  3501410396: 'azs_flag',\n",
       "  3501424584: 'unit_id',\n",
       "  3501471642: 'business lunch price',\n",
       "  3501471649: 'pvc boats',\n",
       "  3501474505: 'price_room_hour',\n",
       "  3501480642: 'has_bar',\n",
       "  3501480644: 'has_conference_halls',\n",
       "  3501480645: 'territory_size',\n",
       "  3501480656: 'kids_pool',\n",
       "  3501481353: 'projector',\n",
       "  3501481355: 'number of screens',\n",
       "  3501481491: 'free shuttle',\n",
       "  3501482162: 'icon',\n",
       "  3501488776: 'quests types',\n",
       "  3501492237: 'laser gravure',\n",
       "  3501497890: 'hard cover',\n",
       "  3501498182: 'rooms with soundproofing',\n",
       "  3501498183: 'aquapark',\n",
       "  3501498184: 'hairdryer',\n",
       "  3501498186: 'kitchen in the room',\n",
       "  3501498187: 'shared kitchen',\n",
       "  3501498188: 'tea coffee in rooms',\n",
       "  3501498189: 'TV in room',\n",
       "  3501498190: 'bathhouse',\n",
       "  3501498191: 'business center',\n",
       "  3501498193: 'hammam',\n",
       "  3501498194: 'babysitting service',\n",
       "  3501498195: 'jacuzzi',\n",
       "  3501498196: 'bathrobe',\n",
       "  3501498197: 'slippers',\n",
       "  3501498198: 'washing machine',\n",
       "  3501498199: 'iron',\n",
       "  3501498200: 'cleaning',\n",
       "  3501498201: 'childrens club',\n",
       "  3501498202: 'ski equipment hire',\n",
       "  3501498203: 'ski storage space',\n",
       "  3501498204: 'ski to door access',\n",
       "  3501498205: 'sale of ski pass',\n",
       "  3501498206: 'mandatory deposit',\n",
       "  3501498207: 'adults only',\n",
       "  3501498208: 'lgbt friendly',\n",
       "  3501498209: 'heating',\n",
       "  3501498210: 'combined rooms',\n",
       "  3501498211: 'deckchairs',\n",
       "  3501498212: 'beach umbrella',\n",
       "  3501498213: 'beach towels',\n",
       "  3501498214: 'free umbrellas deckchairs',\n",
       "  3501498215: 'veranda terrace patio',\n",
       "  3501498216: 'beach bar',\n",
       "  3501498217: 'ventilator',\n",
       "  3501498218: 'rooms for smokers',\n",
       "  3501498367: 'mortage',\n",
       "  3501498368: 'decoration',\n",
       "  3501498369: 'econom',\n",
       "  3501498370: 'developer',\n",
       "  3501498371: 'number of bars',\n",
       "  3501498372: 'number of restaurants',\n",
       "  3501498379: 'internet access',\n",
       "  3501498382: 'parking type',\n",
       "  3501498389: 'free transfer',\n",
       "  3501498568: 'around the clock front desk',\n",
       "  3501498569: 'public area',\n",
       "  3501498588: 'sports types',\n",
       "  3501500016: 'hotel_type_tech',\n",
       "  3501501061: '1c software',\n",
       "  3501501062: 'non smoking rooms',\n",
       "  3501501063: 'private beach',\n",
       "  3501501064: 'room service',\n",
       "  3501501235: 'ping pong',\n",
       "  3501502225: 'wired_internet',\n",
       "  3501503649: 'goods delivery',\n",
       "  3501509021: 'meeting room',\n",
       "  3501509022: 'shared toilet',\n",
       "  3501509023: 'poolside bar',\n",
       "  3501509024: 'fireplace',\n",
       "  3501509025: 'valet parking',\n",
       "  3501509026: 'game room',\n",
       "  3501509027: 'waterslides',\n",
       "  3501509028: 'parking for yachts',\n",
       "  3501509029: 'electric car charging station',\n",
       "  3501509030: 'express check in out',\n",
       "  3501509031: 'evening entertainment',\n",
       "  3501509032: 'doctor',\n",
       "  3501509033: 'butler',\n",
       "  3501509034: 'pharmacy',\n",
       "  3501509035: 'ski school',\n",
       "  3501509037: 'gaming house',\n",
       "  3501509041: 'type of transfer',\n",
       "  3501509042: 'safe',\n",
       "  3501509045: 'safe type',\n",
       "  3501509475: 'bath',\n",
       "  3501509914: 'check in',\n",
       "  3501509940: 'check out',\n",
       "  3501510638: 'forensic examination',\n",
       "  3501513153: 'tag_menu',\n",
       "  3501519747: 'ems training',\n",
       "  3501522239: 'sensitive',\n",
       "  3501525722: 'mental arithmetic',\n",
       "  3501534098: 'ice rental',\n",
       "  3501539205: 'vinotheque',\n",
       "  3501543756: 'materials for nails',\n",
       "  3501546132: 'loan secured by real estate',\n",
       "  3501547180: 'type of animal',\n",
       "  3501549616: 'tag_beauty',\n",
       "  3501549733: 'tag_medicine',\n",
       "  3501549840: 'tag_auto',\n",
       "  3501566088: 'cinder blocks',\n",
       "  3501567639: 'literature for children',\n",
       "  3501569758: 'motorcycle brands',\n",
       "  3501572104: 'classes for children',\n",
       "  3501577089: 'europallets',\n",
       "  3501583166: 'free consultation',\n",
       "  3501583611: 'modular cargo',\n",
       "  3501583614: 'long distance taxi',\n",
       "  3501583622: 'dental treatment in installments',\n",
       "  3501583627: 'mens spa',\n",
       "  3501583680: 'cosmetology for men',\n",
       "  3501583907: 'manual alert systems',\n",
       "  3501583920: 'tattoo removal',\n",
       "  3501583942: 'turbine repair',\n",
       "  3501586968: 'land management expertise',\n",
       "  3501586983: 'montessori',\n",
       "  3501587292: 'free examination',\n",
       "  3501587293: 'preparation for exam',\n",
       "  3501594247: 'design of the fountains',\n",
       "  3501596642: 'tobacco labeling',\n",
       "  3501599455: 'cryosauna',\n",
       "  3501599535: 'facilities for disabled people',\n",
       "  3501599537: 'slot machines',\n",
       "  3501599538: 'hairdresser',\n",
       "  3501599541: 'menu for children',\n",
       "  3501599543: 'baby cots',\n",
       "  3501599554: 'kitchen equipment',\n",
       "  3501599561: 'hotel garden',\n",
       "  3501599563: 'vineyard',\n",
       "  3501599566: 'vending machines with snacks',\n",
       "  3501599567: 'garage',\n",
       "  3501599570: 'hire',\n",
       "  3501599571: 'concierge service',\n",
       "  3501599572: 'banquet hall',\n",
       "  3501599575: 'doorman',\n",
       "  3501599585: 'business center equipment',\n",
       "  3501599586: 'allergy free room',\n",
       "  3501599587: 'number of meeting rooms',\n",
       "  3501599588: 'disco',\n",
       "  3501599593: 'theater',\n",
       "  3501599594: 'ice rink',\n",
       "  3501599597: 'wine tasting',\n",
       "  3501599603: 'cleaning frequency',\n",
       "  3501599604: 'health centre',\n",
       "  3501599610: 'bellboy',\n",
       "  3501599676: 'animal accommodations',\n",
       "  3501599677: 'animal care',\n",
       "  3501599682: 'animals allowed to be accommodated',\n",
       "  3501599691: 'restrictions on living with animals',\n",
       "  3501604484: 'wax seals',\n",
       "  3501604516: 'gastronorm containers',\n",
       "  3501604850: 'moto equipment',\n",
       "  3501604974: 'paper package',\n",
       "  3501610669: 'tillers',\n",
       "  3501611178: 'galvanized beds',\n",
       "  3501613146: 'types of electrical products',\n",
       "  3501613588: 'photo_retouching',\n",
       "  3501616848: 'hotel_price_category',\n",
       "  3501616913: 'welding_works',\n",
       "  3501618484: 'wheelchair_access',\n",
       "  3501619158: 'alcohol_license',\n",
       "  3501619188: 'repair_knitwear',\n",
       "  3501620046: 'bubble_film',\n",
       "  3501621367: 'kinesis_training',\n",
       "  3501621377: 'agronavigators',\n",
       "  3501621378: 'parallel_driving_systems',\n",
       "  3501621382: 'cups_medals',\n",
       "  3501621388: 'drones_quadcopters',\n",
       "  3501621391: 'chipboard_cutting',\n",
       "  3501623871: 'cigars_cigarillos',\n",
       "  3501626676: 'motorcycle_tire_repair',\n",
       "  3501626694: 'aerocrete',\n",
       "  3501627295: 'onsite_diagnostics_cars',\n",
       "  3501629404: 'repair_of_refrigerated_trucks',\n",
       "  3501631840: 'gift_wrapping',\n",
       "  3501631894: 'tax_free',\n",
       "  3501637468: 'level',\n",
       "  3501637602: 'self_car_service',\n",
       "  3501638584: 'field_repair_of_phones',\n",
       "  3501638601: 'flowers_in_flask',\n",
       "  3501639433: 'karting_prices',\n",
       "  3501640731: 'foodcourt',\n",
       "  3501640735: 'plotter_cutting',\n",
       "  3501640737: 'only_under_order',\n",
       "  3501643038: 'transport_refrigeration_equipment',\n",
       "  3501643039: 'anti_gravity_film',\n",
       "  3501643040: 'caviar_store',\n",
       "  3501647385: 'dress_hire',\n",
       "  3501649263: 'auto_generated_food_filter',\n",
       "  3501652258: 'mens_nail_services',\n",
       "  3501656640: 'fight_club',\n",
       "  3501656641: 'calculation_of_insolation',\n",
       "  3501657208: 'rating_of_moscow_schools',\n",
       "  3501668257: 'sweet_gifts',\n",
       "  3501674400: 'breakfast_included',\n",
       "  3501674401: 'free_cancellation',\n",
       "  3501674501: 'brand_office_equipment',\n",
       "  3501675316: 'farm_products',\n",
       "  3501677065: 'vinyl',\n",
       "  3501677091: 'registration_of_medical_devices',\n",
       "  3501678436: 'coaching',\n",
       "  3501679779: 'aquaprint',\n",
       "  3501679846: 'purchase_of_radio_components',\n",
       "  3501680348: 'medical_pedicure',\n",
       "  3501682169: 'vintage_clothing',\n",
       "  3501682201: 'self_storage_warehouse',\n",
       "  3501682216: 'night_groups',\n",
       "  3501682700: 'excursions_for_schoolchildren',\n",
       "  3501684957: 'hair_transplantation',\n",
       "  3501685156: 'table_games',\n",
       "  3501687599: 'storage_of_motorcycles',\n",
       "  3501689802: 'repair_of_game_consoles',\n",
       "  3501689804: 'quadcopter_repair',\n",
       "  3501692956: 'bio_cleaning',\n",
       "  3501693369: 'flight_simulator',\n",
       "  3501694289: 'teahouse',\n",
       "  3501694323: 'goods_for_bakery',\n",
       "  3501694325: 'cedar_barrel',\n",
       "  3501694353: 'builtin_appliances',\n",
       "  3501700359: 'freight_car_service',\n",
       "  3501703400: 'courses_for_elderly',\n",
       "  3501704145: 'crm_implementation',\n",
       "  3501707180: 'type_of_deal',\n",
       "  3501707183: 'rental_period',\n",
       "  3501707201: 'assessment_qualification_employees',\n",
       "  3501708144: 'accommodation_type',\n",
       "  3501708666: 'wine_tasting',\n",
       "  3501710354: 'indoor-plan-id',\n",
       "  3501710419: 'dancing_for_beginners',\n",
       "  3501710426: 'extended_day_group',\n",
       "  3501711656: 'disposable_clothing',\n",
       "  3501711661: 'products_for_hairdressers',\n",
       "  3501712327: 'earpieces',\n",
       "  3501713908: 'baby_massage',\n",
       "  3501715376: 'hatches',\n",
       "  3501721033: 'equipment_for_tattoo',\n",
       "  3501721629: 'air_walks',\n",
       "  3501722842: 'iqos_repair',\n",
       "  3501725224: 'transportation_storage_dangerous_goods',\n",
       "  3501725225: 'spare_parts_for_restaurant_equipment',\n",
       "  3501727103: 'pressure_chamber',\n",
       "  3501729440: 'repurchase_of_insurance_debts',\n",
       "  3501734268: 'thermobags',\n",
       "  3501734280: 'coworking',\n",
       "  3501735971: 'large_format_scanning',\n",
       "  3501738022: 'gong_meditation',\n",
       "  3501738031: 'buying_up_radio_devices',\n",
       "  3501739378: 'vr_ar_development',\n",
       "  3501739652: 'rating_threshold',\n",
       "  3501743496: 'restoration_down_feather_products',\n",
       "  3501744275: 'closed_for_quarantine',\n",
       "  3501745827: 'food_product_delivery',\n",
       "  3501747162: 'cyclorama',\n",
       "  3501748140: 'professional_cosmetics',\n",
       "  3501749289: 'closed_for_visitors',\n",
       "  3501749391: 'payment_from_car',\n",
       "  3501751270: 'online_classes',\n",
       "  3501751965: 'educational_consulting',\n",
       "  3501752548: 'installation_of_acoustic_systems',\n",
       "  3501754118: 'led_street_lighting',\n",
       "  3501754121: 'industrial_led_lighting',\n",
       "  3501754799: 'pickup',\n",
       "  3501759226: 'hookah_rental',\n",
       "  3501759265: 'types_of_equipment',\n",
       "  3501759464: 'cast_iron_cookware',\n",
       "  3501765089: 'bread_from_tandoor',\n",
       "  3501766414: 'groups_for_adults',\n",
       "  3501769429: 'trailer_repair',\n",
       "  3501769434: 'coffee_shop',\n",
       "  3501769723: 'covid_hotel_safety_air_disinfection',\n",
       "  3501769724: 'covid_hotel_safety_sanitizers',\n",
       "  3501769725: 'covid_hotel_safety_employees_use_personal_protective_gear',\n",
       "  3501769739: 'covid_hotel_safety_thermometry',\n",
       "  3501769740: 'covid_hotel_safety_marking_floor',\n",
       "  3501769741: 'covid_hotel_safety_isolation',\n",
       "  3501769751: 'covid_hotel_safety_placing_tables_at_distance',\n",
       "  3501769752: 'covid_hotel_safety_washing_at_high_temperatures',\n",
       "  3501769755: 'covid_hotel_safety_barriers',\n",
       "  3501769756: 'covid_hotel_safety_сontactless_check_out',\n",
       "  3501769757: 'covid_hotel_safety_employee_training',\n",
       "  3501769758: 'covid_hotel_safety_сontactless_room_service',\n",
       "  3501769759: 'covid_hotel_safety_disinfection_contact_surfaces',\n",
       "  3501769760: 'covid_hotel_safety_disinfection_surfaces_rooms',\n",
       "  3501769761: 'covid_hotel_safety_disinfection_dining_halls',\n",
       "  3501769762: 'covid_hotel_safety_disinfection_storage_facilities',\n",
       "  3501769763: 'covid_hotel_safety_disinfection_gyms_and_spa',\n",
       "  3501769765: 'covid_hotel_safety_disinfection_equipment_in_open_spaces',\n",
       "  3501770296: 'buying_cartridges',\n",
       "  3501772560: 'canteen',\n",
       "  3501772561: 'childrens_corner',\n",
       "  3501773763: 'automatic_door',\n",
       "  3501773764: 'toilet_for_disabled',\n",
       "  3501773773: 'chip_tuning',\n",
       "  3501773799: 'rooms_voicing',\n",
       "  3501773817: 'online_broadcasts',\n",
       "  3501778442: 'CSP',\n",
       "  3501778832: 'gazebo_rental',\n",
       "  3501779478: 'online_takeaway',\n",
       "  3501779832: 'planter',\n",
       "  3501781778: 'military_atelier',\n",
       "  3501786035: 'number_of_connectors',\n",
       "  3501786036: 'number_of_parking_spaces',\n",
       "  3501786039: 'parking_type',\n",
       "  3501786471: 'press_for_grapes',\n",
       "  3501787643: 'beauty_coworking',\n",
       "  3501789292: 'schienalі',\n",
       "  3501792408: 'wall_panels',\n",
       "  3501793680: 'florarium',\n",
       "  3501801715: 'occluders_opticludes',\n",
       "  3501803507: 'ferris_wheel',\n",
       "  3501806316: 'mansard_windows',\n",
       "  3501814557: 'iqos',\n",
       "  3501820537: 'new_year_gifts',\n",
       "  3501822933: 'free_excursions',\n",
       "  3501823885: 'printing_on_cakes',\n",
       "  3501827474: 'purchase_of_electronic_devices',\n",
       "  3501827489: 'credit_cards',\n",
       "  3501833069: 'electronic_registration_of_transactions',\n",
       "  3501833418: 'hotel_pansion',\n",
       "  3501839524: 'diagnostics_of_animal_diseases',\n",
       "  3501844201: 'gas_station_takeaway_shop',\n",
       "  3501854477: 'edible_bouquets',\n",
       "  3501878443: 'epassport_for_vehicles',\n",
       "  3501941331: 'it_services',\n",
       "  3501941361: 'virus_prevention',\n",
       "  3501941962: 'no_prepayment',\n",
       "  3501942001: 'free_measurement',\n",
       "  3501942075: 'guarantee',\n",
       "  3501942246: 'contract_conclusion',\n",
       "  3501942247: 'measuring',\n",
       "  3501942249: 'online_consultations',\n",
       "  3501942269: 'from_manufacturer',\n",
       "  3501942276: 'individual_sizes',\n",
       "  3501942279: 'turnkey',\n",
       "  3501942284: 'round_the_clock_support',\n",
       "  3501942295: 'installment',\n",
       "  3501942428: 'promotions',\n",
       "  3501945020: 'availability',\n",
       "  3501945049: 'processing_speed',\n",
       "  3501945100: 'upholstered_furniture',\n",
       "  3501945135: 'type_of_furniture',\n",
       "  3501948336: 'internet_marketing_services',\n",
       "  3501948407: 'real_estate_services',\n",
       "  3501961675: 'hotel_city_center_nearby',\n",
       "  3501964004: 'hotel_park_nearby',\n",
       "  3501964029: 'hotel_airport_nearby',\n",
       "  3501964032: 'hotel_sea_nearby',\n",
       "  3501964056: 'hotel_city_center_dist_category',\n",
       "  3501992267: 'yandex_smart_speaker',\n",
       "  3501997364: 'adv_hleb_i_vypecka_produkty_napitki',\n",
       "  3502003689: 'closed_for_without_qr',\n",
       "  3502010179: 'current_license',\n",
       "  3502010332: 'vid_division',\n",
       "  3502010539: 'registration_number',\n",
       "  3502010548: 'egr',\n",
       "  3502010918: 'call_button',\n",
       "  3502010929: 'elevator_wheelchair_accessible',\n",
       "  3502010932: 'ramp',\n",
       "  3502010938: 'wheelchair_accessible',\n",
       "  3502023279: 'types_of_bank_activities',\n",
       "  3502029228: 'takeout_to_car',\n",
       "  3502031788: 'indoor_plants',\n",
       "  3502040627: 'data_from_the_CB',\n",
       "  3502043655: 'report_upload_date',\n",
       "  3502043657: 'legal_name_organization',\n",
       "  3502043677: 'abbreviated_name',\n",
       "  3502043680: 'tin',\n",
       "  3502043705: 'international_name',\n",
       "  3502043737: 'meal',\n",
       "  3502044048: 'staff',\n",
       "  3502044229: 'atmosphere',\n",
       "  3502044237: 'cash_register',\n",
       "  3502044252: 'registration_process',\n",
       "  3502044665: 'food_quality',\n",
       "  3502044672: 'goods_quality',\n",
       "  3502044685: 'waiting_period',\n",
       "  3502044709: 'menu_range',\n",
       "  3502044741: 'rooms',\n",
       "  3502044748: 'service_quality',\n",
       "  3502044801: 'enjoyable_sound',\n",
       "  3502044826: 'org_territory',\n",
       "  3502044834: 'views',\n",
       "  3502045016: 'types_of_delivery',\n",
       "  3502045017: 'number_of_tables',\n",
       "  3502045032: 'non_cash_tips',\n",
       "  3502045280: 'cosy_atmosphere',\n",
       "  3502045286: 'romantic_atmosphere',\n",
       "  3502045289: 'beautiful_interior',\n",
       "  3502045294: 'unusual_interior',\n",
       "  3502045301: 'spacious',\n",
       "  3502045303: 'small_cafe',\n",
       "  3502045309: 'dancings',\n",
       "  3502045322: 'panoramic_view',\n",
       "  3502045326: 'new_organization',\n",
       "  3502045331: 'well_for_dating',\n",
       "  3502045336: 'well_for_big_company',\n",
       "  3502045340: 'well_for_business_meetings',\n",
       "  3502045342: 'well_for_family_dinner',\n",
       "  3502045395: 'well_atmosphere',\n",
       "  3502045402: 'unusual_concept',\n",
       "  3502045411: 'beautiful_serving_of_dishes',\n",
       "  3502045433: 'well_for_banquet',\n",
       "  3502045496: 'well_with_children',\n",
       "  3502045553: 'choice_variety',\n",
       "  3502045556: 'democracy',\n",
       "  3502045562: 'grill',\n",
       "  3502045597: 'foreign_chef',\n",
       "  3502045611: 'marriage',\n",
       "  3502046291: 'well_for_birthday_party',\n",
       "  3502046294: 'corporate_party',\n",
       "  3502046330: 'on_roof',\n",
       "  3502046337: 'restaurateur',\n",
       "  3502046339: 'chef',\n",
       "  ...}}"
      ]
     },
     "execution_count": 31,
     "metadata": {},
     "output_type": "execute_result"
    }
   ],
   "execution_count": 31
  },
  {
   "metadata": {
    "ExecuteTime": {
     "end_time": "2024-12-19T09:55:49.890465Z",
     "start_time": "2024-12-19T09:55:49.886392Z"
    }
   },
   "cell_type": "code",
   "source": "",
   "outputs": [],
   "execution_count": null
  },
  {
   "metadata": {
    "ExecuteTime": {
     "end_time": "2024-12-19T09:55:50.086380Z",
     "start_time": "2024-12-19T09:55:50.047184Z"
    }
   },
   "cell_type": "code",
   "source": "data.describe()",
   "outputs": [
    {
     "data": {
      "text/plain": [
       "             org_id  average_bill        rating\n",
       "count  6.833900e+04  3.277800e+04  54608.000000\n",
       "mean   9.191021e+18  1.135075e+03      4.117850\n",
       "std    5.333919e+18  4.163250e+04      0.708188\n",
       "min    1.148366e+13  5.000000e+02      0.000000\n",
       "25%    4.563526e+18  5.000000e+02      3.857143\n",
       "50%    9.178503e+18  5.000000e+02      4.250000\n",
       "75%    1.379983e+19  1.000000e+03      4.552955\n",
       "max    1.844596e+19  7.502000e+06      5.000000"
      ],
      "text/html": [
       "<div>\n",
       "<style scoped>\n",
       "    .dataframe tbody tr th:only-of-type {\n",
       "        vertical-align: middle;\n",
       "    }\n",
       "\n",
       "    .dataframe tbody tr th {\n",
       "        vertical-align: top;\n",
       "    }\n",
       "\n",
       "    .dataframe thead th {\n",
       "        text-align: right;\n",
       "    }\n",
       "</style>\n",
       "<table border=\"1\" class=\"dataframe\">\n",
       "  <thead>\n",
       "    <tr style=\"text-align: right;\">\n",
       "      <th></th>\n",
       "      <th>org_id</th>\n",
       "      <th>average_bill</th>\n",
       "      <th>rating</th>\n",
       "    </tr>\n",
       "  </thead>\n",
       "  <tbody>\n",
       "    <tr>\n",
       "      <th>count</th>\n",
       "      <td>6.833900e+04</td>\n",
       "      <td>3.277800e+04</td>\n",
       "      <td>54608.000000</td>\n",
       "    </tr>\n",
       "    <tr>\n",
       "      <th>mean</th>\n",
       "      <td>9.191021e+18</td>\n",
       "      <td>1.135075e+03</td>\n",
       "      <td>4.117850</td>\n",
       "    </tr>\n",
       "    <tr>\n",
       "      <th>std</th>\n",
       "      <td>5.333919e+18</td>\n",
       "      <td>4.163250e+04</td>\n",
       "      <td>0.708188</td>\n",
       "    </tr>\n",
       "    <tr>\n",
       "      <th>min</th>\n",
       "      <td>1.148366e+13</td>\n",
       "      <td>5.000000e+02</td>\n",
       "      <td>0.000000</td>\n",
       "    </tr>\n",
       "    <tr>\n",
       "      <th>25%</th>\n",
       "      <td>4.563526e+18</td>\n",
       "      <td>5.000000e+02</td>\n",
       "      <td>3.857143</td>\n",
       "    </tr>\n",
       "    <tr>\n",
       "      <th>50%</th>\n",
       "      <td>9.178503e+18</td>\n",
       "      <td>5.000000e+02</td>\n",
       "      <td>4.250000</td>\n",
       "    </tr>\n",
       "    <tr>\n",
       "      <th>75%</th>\n",
       "      <td>1.379983e+19</td>\n",
       "      <td>1.000000e+03</td>\n",
       "      <td>4.552955</td>\n",
       "    </tr>\n",
       "    <tr>\n",
       "      <th>max</th>\n",
       "      <td>1.844596e+19</td>\n",
       "      <td>7.502000e+06</td>\n",
       "      <td>5.000000</td>\n",
       "    </tr>\n",
       "  </tbody>\n",
       "</table>\n",
       "</div>"
      ]
     },
     "execution_count": 32,
     "metadata": {},
     "output_type": "execute_result"
    }
   ],
   "execution_count": 32
  },
  {
   "metadata": {
    "ExecuteTime": {
     "end_time": "2024-12-19T09:55:50.225994Z",
     "start_time": "2024-12-19T09:55:50.192326Z"
    }
   },
   "cell_type": "code",
   "source": "data.sort_values(by='average_bill', ascending=False)",
   "outputs": [
    {
     "data": {
      "text/plain": [
       "                     org_id city  average_bill    rating   rubrics_id  \\\n",
       "26604  15353848906854680136  msk     7502000.0  4.422330        30770   \n",
       "29194  13559530925836077198  msk      500000.0  4.954545  31401 30774   \n",
       "65174  17999708768616662496  msk      250000.0  4.645833  31495 31350   \n",
       "35795  10214186141405421011  msk      246000.0  4.258359        31286   \n",
       "41842   2951798465817362387  msk      203500.0  4.546875        30776   \n",
       "...                     ...  ...           ...       ...          ...   \n",
       "68334   4379286080707082909  msk           NaN  3.812500        30774   \n",
       "68335   7916477189329738565  msk           NaN  4.894231        30776   \n",
       "68336  12358902585434046825  msk           NaN  4.156250        30774   \n",
       "68337   1712093598996183140  spb           NaN       NaN  30771 30774   \n",
       "68338    125079240973229511  spb           NaN  4.633333        30776   \n",
       "\n",
       "                                                                                                                                                                                                                                                                                                                                                                              features_id  \n",
       "26604  3491142672 2020795524 1189498238 3501513153 273469383 20422 11617 21247 20424 3502045016 11704 3502010938 3502010929 3501942428 3501744275 12048 3501779478 3501773763 11177 11741 3501618484 3502010932 3501599541 10900 246 1018 10894 1416 3501685156 11867 10886 1415 1509 3502010918 10462 11629 3502045032 1524 3501498187 3501498186 11012 3501481355 1082283206 3501481353  \n",
       "29194                                                                                                                                       1524 1509 1416 3501481355 3502045032 3502045016 11629 3501471642 3493051166 1189498238 10462 1082283206 11177 11704 3501481353 2020795524 21247 1018 20424 20422 273469383 20305 11867 1415 12048 11531 3501618484 11617 11741 3501744275 246  \n",
       "65174                                                                                                                                                                                                            273469383 1415 3501749289 20422 11867 12204 1416 11634 11629 11177 1018 3501745827 1524 10427 3501942428 20424 10430 3501513153 12206 3501744275 11704 11617 10462 20282  \n",
       "35795                                                                                                                                 803 275672861 20896 11904 3501583627 11741 11704 11022 3501498193 10966 10829 3501942428 3501713908 10487 12172 10470 12048 1651 20988 601 1600 1415 1413 1075 3491142672 1937 3501694325 11032 3501744275 11982 3501519747 10833 11906 20422 10506  \n",
       "41842                                                                                                                                               1629 1582 11704 3501583627 11741 11022 10470 12172 246 1796 11897 11904 3501498193 275672861 10506 20422 1651 726 20280 803 10829 1600 601 20988 1415 1075 1413 10449 10833 11906 3501744275 11032 11106 10481 3501519747 11982 10487  \n",
       "...                                                                                                                                                                                                                                                                                                                                                                                   ...  \n",
       "68334                                                                                                                                                 1018 1415 10462 11629 11867 20422 20424 1189498238 3491142672 3501481353 11617 11704 3501637468 3501744275 3501773763 246 3501779478 12048 3501773764 3501942428 3502010918 3502010929 21247 3502010932 11741 3501513153 3502010938  \n",
       "68335                                                                                                                                                           11634 11629 3501481353 11177 3501773763 11867 20422 2020795524 11617 1018 3501745827 246 3501779478 3501754799 11741 3501513153 21247 137 3501643040 273469383 1415 1416 3501945049 1509 1524 3501773764 12048 3501942428  \n",
       "68336                                                                                                                                                              20422 11867 246 3501754799 3501779478 12048 3501773764 3501942428 1415 10596 3501773763 11177 11629 11634 11617 3501744275 11839 3501481353 21247 11741 10462 1018 137 273469383 3491142672 1189498238 3501618484 1416  \n",
       "68337                                                                                                                                                         3491142672 3501481353 11867 20422 273469383 11629 1524 3483661991 1082283206 1018 1116173086 1116173087 3501779478 3501773763 11177 3483661992 11617 11704 1509 1416 1189498238 3483661993 21247 3483661994 1415 3501773764  \n",
       "68338                                                                                                                                      3501498189 3501509030 3501498184 12309 20422 3501599554 3501599566 3501599571 3501674401 3501833418 11933 11936 11704 11097 3501509042 3501674400 10588 1075 983 3501502225 3501501064 10513 305 3501498186 3501599570 3501498389 312 1413 601  \n",
       "\n",
       "[68339 rows x 6 columns]"
      ],
      "text/html": [
       "<div>\n",
       "<style scoped>\n",
       "    .dataframe tbody tr th:only-of-type {\n",
       "        vertical-align: middle;\n",
       "    }\n",
       "\n",
       "    .dataframe tbody tr th {\n",
       "        vertical-align: top;\n",
       "    }\n",
       "\n",
       "    .dataframe thead th {\n",
       "        text-align: right;\n",
       "    }\n",
       "</style>\n",
       "<table border=\"1\" class=\"dataframe\">\n",
       "  <thead>\n",
       "    <tr style=\"text-align: right;\">\n",
       "      <th></th>\n",
       "      <th>org_id</th>\n",
       "      <th>city</th>\n",
       "      <th>average_bill</th>\n",
       "      <th>rating</th>\n",
       "      <th>rubrics_id</th>\n",
       "      <th>features_id</th>\n",
       "    </tr>\n",
       "  </thead>\n",
       "  <tbody>\n",
       "    <tr>\n",
       "      <th>26604</th>\n",
       "      <td>15353848906854680136</td>\n",
       "      <td>msk</td>\n",
       "      <td>7502000.0</td>\n",
       "      <td>4.422330</td>\n",
       "      <td>30770</td>\n",
       "      <td>3491142672 2020795524 1189498238 3501513153 273469383 20422 11617 21247 20424 3502045016 11704 3502010938 3502010929 3501942428 3501744275 12048 3501779478 3501773763 11177 11741 3501618484 3502010932 3501599541 10900 246 1018 10894 1416 3501685156 11867 10886 1415 1509 3502010918 10462 11629 3502045032 1524 3501498187 3501498186 11012 3501481355 1082283206 3501481353</td>\n",
       "    </tr>\n",
       "    <tr>\n",
       "      <th>29194</th>\n",
       "      <td>13559530925836077198</td>\n",
       "      <td>msk</td>\n",
       "      <td>500000.0</td>\n",
       "      <td>4.954545</td>\n",
       "      <td>31401 30774</td>\n",
       "      <td>1524 1509 1416 3501481355 3502045032 3502045016 11629 3501471642 3493051166 1189498238 10462 1082283206 11177 11704 3501481353 2020795524 21247 1018 20424 20422 273469383 20305 11867 1415 12048 11531 3501618484 11617 11741 3501744275 246</td>\n",
       "    </tr>\n",
       "    <tr>\n",
       "      <th>65174</th>\n",
       "      <td>17999708768616662496</td>\n",
       "      <td>msk</td>\n",
       "      <td>250000.0</td>\n",
       "      <td>4.645833</td>\n",
       "      <td>31495 31350</td>\n",
       "      <td>273469383 1415 3501749289 20422 11867 12204 1416 11634 11629 11177 1018 3501745827 1524 10427 3501942428 20424 10430 3501513153 12206 3501744275 11704 11617 10462 20282</td>\n",
       "    </tr>\n",
       "    <tr>\n",
       "      <th>35795</th>\n",
       "      <td>10214186141405421011</td>\n",
       "      <td>msk</td>\n",
       "      <td>246000.0</td>\n",
       "      <td>4.258359</td>\n",
       "      <td>31286</td>\n",
       "      <td>803 275672861 20896 11904 3501583627 11741 11704 11022 3501498193 10966 10829 3501942428 3501713908 10487 12172 10470 12048 1651 20988 601 1600 1415 1413 1075 3491142672 1937 3501694325 11032 3501744275 11982 3501519747 10833 11906 20422 10506</td>\n",
       "    </tr>\n",
       "    <tr>\n",
       "      <th>41842</th>\n",
       "      <td>2951798465817362387</td>\n",
       "      <td>msk</td>\n",
       "      <td>203500.0</td>\n",
       "      <td>4.546875</td>\n",
       "      <td>30776</td>\n",
       "      <td>1629 1582 11704 3501583627 11741 11022 10470 12172 246 1796 11897 11904 3501498193 275672861 10506 20422 1651 726 20280 803 10829 1600 601 20988 1415 1075 1413 10449 10833 11906 3501744275 11032 11106 10481 3501519747 11982 10487</td>\n",
       "    </tr>\n",
       "    <tr>\n",
       "      <th>...</th>\n",
       "      <td>...</td>\n",
       "      <td>...</td>\n",
       "      <td>...</td>\n",
       "      <td>...</td>\n",
       "      <td>...</td>\n",
       "      <td>...</td>\n",
       "    </tr>\n",
       "    <tr>\n",
       "      <th>68334</th>\n",
       "      <td>4379286080707082909</td>\n",
       "      <td>msk</td>\n",
       "      <td>NaN</td>\n",
       "      <td>3.812500</td>\n",
       "      <td>30774</td>\n",
       "      <td>1018 1415 10462 11629 11867 20422 20424 1189498238 3491142672 3501481353 11617 11704 3501637468 3501744275 3501773763 246 3501779478 12048 3501773764 3501942428 3502010918 3502010929 21247 3502010932 11741 3501513153 3502010938</td>\n",
       "    </tr>\n",
       "    <tr>\n",
       "      <th>68335</th>\n",
       "      <td>7916477189329738565</td>\n",
       "      <td>msk</td>\n",
       "      <td>NaN</td>\n",
       "      <td>4.894231</td>\n",
       "      <td>30776</td>\n",
       "      <td>11634 11629 3501481353 11177 3501773763 11867 20422 2020795524 11617 1018 3501745827 246 3501779478 3501754799 11741 3501513153 21247 137 3501643040 273469383 1415 1416 3501945049 1509 1524 3501773764 12048 3501942428</td>\n",
       "    </tr>\n",
       "    <tr>\n",
       "      <th>68336</th>\n",
       "      <td>12358902585434046825</td>\n",
       "      <td>msk</td>\n",
       "      <td>NaN</td>\n",
       "      <td>4.156250</td>\n",
       "      <td>30774</td>\n",
       "      <td>20422 11867 246 3501754799 3501779478 12048 3501773764 3501942428 1415 10596 3501773763 11177 11629 11634 11617 3501744275 11839 3501481353 21247 11741 10462 1018 137 273469383 3491142672 1189498238 3501618484 1416</td>\n",
       "    </tr>\n",
       "    <tr>\n",
       "      <th>68337</th>\n",
       "      <td>1712093598996183140</td>\n",
       "      <td>spb</td>\n",
       "      <td>NaN</td>\n",
       "      <td>NaN</td>\n",
       "      <td>30771 30774</td>\n",
       "      <td>3491142672 3501481353 11867 20422 273469383 11629 1524 3483661991 1082283206 1018 1116173086 1116173087 3501779478 3501773763 11177 3483661992 11617 11704 1509 1416 1189498238 3483661993 21247 3483661994 1415 3501773764</td>\n",
       "    </tr>\n",
       "    <tr>\n",
       "      <th>68338</th>\n",
       "      <td>125079240973229511</td>\n",
       "      <td>spb</td>\n",
       "      <td>NaN</td>\n",
       "      <td>4.633333</td>\n",
       "      <td>30776</td>\n",
       "      <td>3501498189 3501509030 3501498184 12309 20422 3501599554 3501599566 3501599571 3501674401 3501833418 11933 11936 11704 11097 3501509042 3501674400 10588 1075 983 3501502225 3501501064 10513 305 3501498186 3501599570 3501498389 312 1413 601</td>\n",
       "    </tr>\n",
       "  </tbody>\n",
       "</table>\n",
       "<p>68339 rows × 6 columns</p>\n",
       "</div>"
      ]
     },
     "execution_count": 33,
     "metadata": {},
     "output_type": "execute_result"
    }
   ],
   "execution_count": 33
  },
  {
   "metadata": {
    "ExecuteTime": {
     "end_time": "2024-12-19T09:55:50.425669Z",
     "start_time": "2024-12-19T09:55:50.412722Z"
    }
   },
   "cell_type": "code",
   "source": "data['average_bill']",
   "outputs": [
    {
     "data": {
      "text/plain": [
       "0        1500.0\n",
       "1         500.0\n",
       "2         500.0\n",
       "3         500.0\n",
       "4         500.0\n",
       "          ...  \n",
       "68334       NaN\n",
       "68335       NaN\n",
       "68336       NaN\n",
       "68337       NaN\n",
       "68338       NaN\n",
       "Name: average_bill, Length: 68339, dtype: float64"
      ]
     },
     "execution_count": 34,
     "metadata": {},
     "output_type": "execute_result"
    }
   ],
   "execution_count": 34
  },
  {
   "metadata": {
    "ExecuteTime": {
     "end_time": "2024-12-19T09:55:51.715006Z",
     "start_time": "2024-12-19T09:55:50.734802Z"
    }
   },
   "cell_type": "code",
   "source": [
    "average_bill = data.loc[data['average_bill'] < 2500,'average_bill']\n",
    "\n",
    "\n",
    "plt.figure(figsize=(5,10))\n",
    "plt.hist(average_bill, bins = 20, alpha = 0.7)\n",
    "\n",
    "plt.figure(figsize=(20,5))\n",
    "plt.scatter(range(len(average_bill)), average_bill)\n",
    "\n",
    "plt.show()"
   ],
   "outputs": [
    {
     "data": {
      "text/plain": [
       "<Figure size 500x1000 with 1 Axes>"
      ],
      "image/png": "[encoded data removed]"
     },
     "metadata": {},
     "output_type": "display_data"
    },
    {
     "data": {
      "text/plain": [
       "<Figure size 2000x500 with 1 Axes>"
      ],
      "image/png": "[encoded data removed]"
     },
     "metadata": {},
     "output_type": "display_data"
    }
   ],
   "execution_count": 35
  },
  {
   "cell_type": "markdown",
   "metadata": {
    "id": "qA6Bm_8EGH66"
   },
   "source": [
    "Мы что-то поняли про признаки, которыми нам предстоит пользоваться. Теперь время посмотреть на таргет. Вооружившись функциями ``hist`` и ``scatter`` из библиотеки ``matplotlib``, а также методом ``isna`` для pandas-таблиц разберитесь, какие значения принимают таргеты, есть ли там там выбросы, пропуски или ещё какие-то проблемы.\n",
    "\n",
    "&nbsp;\n",
    "\n",
    "<details>\n",
    "  <summary>Когда будете готовы, кликните сюда, чтобы посмотреть ответ</summary>\n",
    "    <ol>\n",
    "      <li>Среди таргетов довольно много пропусков;</li>\n",
    "      <li>Все таргеты - это числа, кратные 500;</li>\n",
    "      <li>Есть какие-то адские значения, превышающие 100 000 (видимо, выбросы);</li>\n",
    "      <li>В целом, число ресторанов с данным средним чеком быстро падает с ростом среднего чека. Для средних чеков, больших 2500, заведений уже совсем мало. Примерно у 2/3 заведений средний чек 500.</li>\n",
    "    </ol>\n",
    "</details>"
   ]
  },
  {
   "cell_type": "markdown",
   "metadata": {
    "id": "trfl5F_4GH66"
   },
   "source": [
    "**Базовая очистка данных**\n",
    "\n",
    "Раз есть треш, давайте чистить данные.\n",
    "\n",
    "С пропусками можно бороться по-разному (даже и с пропусками в таргете), но пока мы сделаем самую простую вещь: дропнем все заведения, для которых мы не знаем средний чек.\n",
    "\n",
    "Уберите из них все заведения, у которых средний чек неизвестен или превышает 2500. Пока есть опасение, что их слишком мало, чтобы мы смогли обучить на них что-нибудь.\n",
    "\n",
    "**3. Введите в Контест количество заведений, которое у вас получилось после очистки**.\n",
    "\n",
    "Дальше мы будем работать с очищенными данными."
   ]
  },
  {
   "cell_type": "code",
   "metadata": {
    "id": "OxIkRsA1GH67",
    "ExecuteTime": {
     "end_time": "2024-12-19T09:55:52.159733Z",
     "start_time": "2024-12-19T09:55:52.134364Z"
    }
   },
   "source": [
    "clean_data = data.dropna(subset='average_bill')\n",
    "clean_data= clean_data[clean_data['average_bill'] <=2500]\n",
    "len(clean_data)"
   ],
   "outputs": [
    {
     "data": {
      "text/plain": [
       "32136"
      ]
     },
     "execution_count": 36,
     "metadata": {},
     "output_type": "execute_result"
    }
   ],
   "execution_count": 36
  },
  {
   "cell_type": "markdown",
   "metadata": {
    "id": "GsNzGAp1GH67"
   },
   "source": [
    "**4. Посчитайте и введите в Контест разность между средними арифметическими average_bill в кафе Москвы и Санкт-Петербурга. Округлите ответ до целого.**\n",
    "\n",
    "&nbsp;\n",
    "\n",
    "<details>\n",
    "  <summary>Небольшая подсказка</summary>\n",
    "  Примените часто используемый метод groupby.\n",
    "</details>"
   ]
  },
  {
   "metadata": {
    "ExecuteTime": {
     "end_time": "2024-12-19T09:55:52.460559Z",
     "start_time": "2024-12-19T09:55:52.435851Z"
    }
   },
   "cell_type": "code",
   "source": "clean_data",
   "outputs": [
    {
     "data": {
      "text/plain": [
       "                     org_id city  average_bill    rating         rubrics_id  \\\n",
       "0      15903868628669802651  msk        1500.0  4.270968        30776 30774   \n",
       "1      16076540698036998306  msk         500.0  4.375000              30771   \n",
       "2       8129364761615040323  msk         500.0  4.000000              31495   \n",
       "3      15262729117594253452  msk         500.0  4.538813        30776 30770   \n",
       "4      13418544315327784420  msk         500.0  4.409091              31495   \n",
       "...                     ...  ...           ...       ...                ...   \n",
       "68328  17662684569129497551  spb        1000.0  4.561707              30776   \n",
       "68329   5700899951016592061  msk        1500.0  4.377129              31401   \n",
       "68330   4686040819909966338  msk        1500.0  3.666667              30776   \n",
       "68331  12499715465202129892  msk        1500.0  4.554577  30770 30776 30774   \n",
       "68332    971801737399231340  msk        2500.0  4.659884              30776   \n",
       "\n",
       "                                                                                                                                                                                                                                                                                                                                             features_id  \n",
       "0      3501685156 3501779478 20422 3502045016 3502045032 3501618484 11177 11012 2020795524 10894 3501599541 12048 10462 1524 1509 3501498187 11867 1416 3501744275 3501942428 273469383 11704 1189498238 20424 21247 3501481353 3491142672 3501481355 1082283206 11741 3501471642 3501498186 11629 11617 10886 1415 3501513153 1018 246 3501749289 11531  \n",
       "1                                                                                                                                                                                                                                                                 1509 1082283206 273469383 10462 11617 3501779478 3501744275 1524 1018 1116173086 20422  \n",
       "2                                                                                                                                                                                                                                                         10462 11177 11617 11629 1416 1018 11704 11867 3501744275 20282 3502045016 273469383 3502045032  \n",
       "3                                                                                                                                                                                                                                                               3501618484 2020795524 11629 11617 1018 11704 21247 11867 246 20422 1416 3501749289 20305  \n",
       "4                                                                                                                                                                                                                                                         11617 10462 11177 1416 11867 3501744275 20282 3502045016 11629 273469383 3502045032 1018 11704  \n",
       "...                                                                                                                                                                                                                                                                                                                                                  ...  \n",
       "68328                                                                                                                                 246 3501779478 1018 3501618484 3501481353 3501471642 20424 2020795524 3501773763 11177 1082283206 273469383 21247 20305 20422 11867 11741 11629 3501744275 11704 11617 11531 10462 1415 1509 10886 3501481355 1416  \n",
       "68329                                                                                                                                  3501773763 10462 1018 246 3501779478 3501754799 3501618484 3501685156 11629 11617 3501744275 11704 11741 3501481355 3501481353 3491142672 3501773764 3501942428 12048 11867 20422 21247 1524 1082283206 1416 1509  \n",
       "68330                                                                                                                                   10462 1189498238 11629 1416 1415 11741 3501481353 3491142672 21247 3501773764 3501471642 2020795524 3501779478 246 11617 11704 3501744275 273469383 1524 1082283206 3501618484 1018 3501773763 11177 11867 20422  \n",
       "68331                                                                                                                                         273469383 10462 21247 1509 1416 3501618484 3501481355 3491142672 11177 3501773763 1018 3501773764 246 3501779478 1415 20424 2020795524 20422 11867 1524 1082283206 11617 3501637468 3501744275 11704 11629  \n",
       "68332                                                                                                                                   11629 10462 21247 20424 3501513153 273469383 3502045032 20422 3493051166 11867 3502045016 3501471642 12048 3501942428 11177 11704 11617 3501744275 1082283206 1524 1018 1415 1416 246 3501749289 3501779478 1509  \n",
       "\n",
       "[32136 rows x 6 columns]"
      ],
      "text/html": [
       "<div>\n",
       "<style scoped>\n",
       "    .dataframe tbody tr th:only-of-type {\n",
       "        vertical-align: middle;\n",
       "    }\n",
       "\n",
       "    .dataframe tbody tr th {\n",
       "        vertical-align: top;\n",
       "    }\n",
       "\n",
       "    .dataframe thead th {\n",
       "        text-align: right;\n",
       "    }\n",
       "</style>\n",
       "<table border=\"1\" class=\"dataframe\">\n",
       "  <thead>\n",
       "    <tr style=\"text-align: right;\">\n",
       "      <th></th>\n",
       "      <th>org_id</th>\n",
       "      <th>city</th>\n",
       "      <th>average_bill</th>\n",
       "      <th>rating</th>\n",
       "      <th>rubrics_id</th>\n",
       "      <th>features_id</th>\n",
       "    </tr>\n",
       "  </thead>\n",
       "  <tbody>\n",
       "    <tr>\n",
       "      <th>0</th>\n",
       "      <td>15903868628669802651</td>\n",
       "      <td>msk</td>\n",
       "      <td>1500.0</td>\n",
       "      <td>4.270968</td>\n",
       "      <td>30776 30774</td>\n",
       "      <td>3501685156 3501779478 20422 3502045016 3502045032 3501618484 11177 11012 2020795524 10894 3501599541 12048 10462 1524 1509 3501498187 11867 1416 3501744275 3501942428 273469383 11704 1189498238 20424 21247 3501481353 3491142672 3501481355 1082283206 11741 3501471642 3501498186 11629 11617 10886 1415 3501513153 1018 246 3501749289 11531</td>\n",
       "    </tr>\n",
       "    <tr>\n",
       "      <th>1</th>\n",
       "      <td>16076540698036998306</td>\n",
       "      <td>msk</td>\n",
       "      <td>500.0</td>\n",
       "      <td>4.375000</td>\n",
       "      <td>30771</td>\n",
       "      <td>1509 1082283206 273469383 10462 11617 3501779478 3501744275 1524 1018 1116173086 20422</td>\n",
       "    </tr>\n",
       "    <tr>\n",
       "      <th>2</th>\n",
       "      <td>8129364761615040323</td>\n",
       "      <td>msk</td>\n",
       "      <td>500.0</td>\n",
       "      <td>4.000000</td>\n",
       "      <td>31495</td>\n",
       "      <td>10462 11177 11617 11629 1416 1018 11704 11867 3501744275 20282 3502045016 273469383 3502045032</td>\n",
       "    </tr>\n",
       "    <tr>\n",
       "      <th>3</th>\n",
       "      <td>15262729117594253452</td>\n",
       "      <td>msk</td>\n",
       "      <td>500.0</td>\n",
       "      <td>4.538813</td>\n",
       "      <td>30776 30770</td>\n",
       "      <td>3501618484 2020795524 11629 11617 1018 11704 21247 11867 246 20422 1416 3501749289 20305</td>\n",
       "    </tr>\n",
       "    <tr>\n",
       "      <th>4</th>\n",
       "      <td>13418544315327784420</td>\n",
       "      <td>msk</td>\n",
       "      <td>500.0</td>\n",
       "      <td>4.409091</td>\n",
       "      <td>31495</td>\n",
       "      <td>11617 10462 11177 1416 11867 3501744275 20282 3502045016 11629 273469383 3502045032 1018 11704</td>\n",
       "    </tr>\n",
       "    <tr>\n",
       "      <th>...</th>\n",
       "      <td>...</td>\n",
       "      <td>...</td>\n",
       "      <td>...</td>\n",
       "      <td>...</td>\n",
       "      <td>...</td>\n",
       "      <td>...</td>\n",
       "    </tr>\n",
       "    <tr>\n",
       "      <th>68328</th>\n",
       "      <td>17662684569129497551</td>\n",
       "      <td>spb</td>\n",
       "      <td>1000.0</td>\n",
       "      <td>4.561707</td>\n",
       "      <td>30776</td>\n",
       "      <td>246 3501779478 1018 3501618484 3501481353 3501471642 20424 2020795524 3501773763 11177 1082283206 273469383 21247 20305 20422 11867 11741 11629 3501744275 11704 11617 11531 10462 1415 1509 10886 3501481355 1416</td>\n",
       "    </tr>\n",
       "    <tr>\n",
       "      <th>68329</th>\n",
       "      <td>5700899951016592061</td>\n",
       "      <td>msk</td>\n",
       "      <td>1500.0</td>\n",
       "      <td>4.377129</td>\n",
       "      <td>31401</td>\n",
       "      <td>3501773763 10462 1018 246 3501779478 3501754799 3501618484 3501685156 11629 11617 3501744275 11704 11741 3501481355 3501481353 3491142672 3501773764 3501942428 12048 11867 20422 21247 1524 1082283206 1416 1509</td>\n",
       "    </tr>\n",
       "    <tr>\n",
       "      <th>68330</th>\n",
       "      <td>4686040819909966338</td>\n",
       "      <td>msk</td>\n",
       "      <td>1500.0</td>\n",
       "      <td>3.666667</td>\n",
       "      <td>30776</td>\n",
       "      <td>10462 1189498238 11629 1416 1415 11741 3501481353 3491142672 21247 3501773764 3501471642 2020795524 3501779478 246 11617 11704 3501744275 273469383 1524 1082283206 3501618484 1018 3501773763 11177 11867 20422</td>\n",
       "    </tr>\n",
       "    <tr>\n",
       "      <th>68331</th>\n",
       "      <td>12499715465202129892</td>\n",
       "      <td>msk</td>\n",
       "      <td>1500.0</td>\n",
       "      <td>4.554577</td>\n",
       "      <td>30770 30776 30774</td>\n",
       "      <td>273469383 10462 21247 1509 1416 3501618484 3501481355 3491142672 11177 3501773763 1018 3501773764 246 3501779478 1415 20424 2020795524 20422 11867 1524 1082283206 11617 3501637468 3501744275 11704 11629</td>\n",
       "    </tr>\n",
       "    <tr>\n",
       "      <th>68332</th>\n",
       "      <td>971801737399231340</td>\n",
       "      <td>msk</td>\n",
       "      <td>2500.0</td>\n",
       "      <td>4.659884</td>\n",
       "      <td>30776</td>\n",
       "      <td>11629 10462 21247 20424 3501513153 273469383 3502045032 20422 3493051166 11867 3502045016 3501471642 12048 3501942428 11177 11704 11617 3501744275 1082283206 1524 1018 1415 1416 246 3501749289 3501779478 1509</td>\n",
       "    </tr>\n",
       "  </tbody>\n",
       "</table>\n",
       "<p>32136 rows × 6 columns</p>\n",
       "</div>"
      ]
     },
     "execution_count": 37,
     "metadata": {},
     "output_type": "execute_result"
    }
   ],
   "execution_count": 37
  },
  {
   "cell_type": "code",
   "metadata": {
    "id": "gLdl3zVCGH67",
    "ExecuteTime": {
     "end_time": "2024-12-19T09:55:53.140114Z",
     "start_time": "2024-12-19T09:55:53.113322Z"
    }
   },
   "source": [
    "grouped = clean_data.groupby('city')['average_bill'].mean()\n",
    "grouped"
   ],
   "outputs": [
    {
     "data": {
      "text/plain": [
       "city\n",
       "msk    792.887230\n",
       "spb    676.449662\n",
       "Name: average_bill, dtype: float64"
      ]
     },
     "execution_count": 38,
     "metadata": {},
     "output_type": "execute_result"
    }
   ],
   "execution_count": 38
  },
  {
   "metadata": {
    "ExecuteTime": {
     "end_time": "2024-12-19T09:55:53.703030Z",
     "start_time": "2024-12-19T09:55:53.693901Z"
    }
   },
   "cell_type": "code",
   "source": "np.round(grouped['msk'] - grouped['spb'])",
   "outputs": [
    {
     "data": {
      "text/plain": [
       "116.0"
      ]
     },
     "execution_count": 39,
     "metadata": {},
     "output_type": "execute_result"
    }
   ],
   "execution_count": 39
  },
  {
   "metadata": {
    "ExecuteTime": {
     "end_time": "2024-12-19T09:55:54.028285Z",
     "start_time": "2024-12-19T09:55:54.011495Z"
    }
   },
   "cell_type": "code",
   "source": "clean_data.groupby('city')['average_bill'].mean().diff().abs().round()",
   "outputs": [
    {
     "data": {
      "text/plain": [
       "city\n",
       "msk      NaN\n",
       "spb    116.0\n",
       "Name: average_bill, dtype: float64"
      ]
     },
     "execution_count": 40,
     "metadata": {},
     "output_type": "execute_result"
    }
   ],
   "execution_count": 40
  },
  {
   "cell_type": "markdown",
   "metadata": {
    "id": "Qncnmi8bGH7F"
   },
   "source": [
    "Давайте ещё немного поизучаем данные. Ответьте на вопросы:\n",
    "\n",
    "1. Есть ли разница между средними чеками в Москве и Санкт-Петербурге?\n",
    "2. Коррелирует ли средний чек с рейтингом?\n",
    "3. Есть ли разница в среднем чеке между ресторанами и пабами (см. соответствующие типы из ``rubrics``)?\n",
    "\n",
    "&nbsp;\n",
    "\n",
    "<details>\n",
    "  <summary>Когда будете готовы, кликните сюда, чтобы посмотреть ответ</summary>\n",
    "    <ol>\n",
    "      <li>В целом, да. Вы могли бы сравнить средние (в Москве больше) или медианы (они равны, потому что уж больно много где средний чек 500). Этого, конечно, мало для того, чтобы сделать вывод. Нужно проверять какие-то статические критерии, которые изучаются в курсе по статистике. Не будем останавливаться на этом подробно. Поскольку данные совсем не нормальные, никакой t-тест не сработает; мы бы предложили использовать критерий Манна-Уитни (см. википедию и функцию mannwhitneyu из библиотеки scipy.stats).</li>\n",
    "      <li>Какая-то корреляция между ними есть но уж больно неубедительная (рекомендуем построим на одном графике boxplot рейтинга по каждому значению среднего чека для визуализации). Конечно, дна становится меньше с ростом среднего чека, но, видимо, в предсказании это особо не используешь;</li>\n",
    "      <li>Несомненно, в ресторанах средний чек выше. Это и невооружённым глазом видно, и с помощью критерия Манна-Уитни можно проверить.</li>\n",
    "    </ol>\n",
    "</details>"
   ]
  },
  {
   "cell_type": "markdown",
   "metadata": {
    "id": "ATY5075lGH7F"
   },
   "source": [
    "## Формулируем задачу"
   ]
  },
  {
   "cell_type": "markdown",
   "metadata": {
    "id": "znpEgJGIGH7F"
   },
   "source": [
    "Прежде, чем решать задачу, её надо сформулировать.\n",
    "\n",
    "**Вопрос первый**: это классификация или регрессия? Подумайте над этим.\n",
    "\n",
    "&nbsp;\n",
    "\n",
    "<details>\n",
    "  <summary>Когда будете готовы, кликните сюда, чтобы посмотреть ответ</summary>\n",
    "    Ответ не столь однозначен, как хотелось бы. С одной стороны, таргет принимает всего четыре значения, и потому это может быть классификацией с 4 классами. С другой стороны, таргеты - это не абстрактные \"треугольник\", \"круг\", \"квадрат\", а вещественные числа, и когда мы вместо 500 предсказываем 2500, это явно хуже, чем вместо 1500 предсказать 2000. В целом, задачу можно решать и так, и так; мы будем смотреть на метрики обеих задач.\n",
    "</details>"
   ]
  },
  {
   "cell_type": "markdown",
   "metadata": {
    "id": "aaVuazxsGH7G"
   },
   "source": [
    "**Вопрос второй**: какие метрики мы будем использовать для оценки качества решения? Какие метрики вы предложили бы для этой задачи как для задачи классификации? А для этой задачи, как для задачи регрессии?\n",
    "\n",
    "&nbsp;\n",
    "\n",
    "<details>\n",
    "  <summary>Когда будете готовы, кликните сюда, чтобы посмотреть ответ</summary>\n",
    "    \n",
    "    Начнём с классификации. Метрика accuracy не очень хороша из-за несбалансированности классов. Действительно, классификатор, который всегда говорит 500, будет иметь accuracy примерно 0.66, хотя это никак не отражает практическую ценность модели. Как мы увидим, самая большая проблема будет заключаться в том, чтобы научиться выделять заведения с большими чеками, а их меньше всего и в accuracy они вносят самый маленький вклад. Есть разные способы с этим бороться, один -- использовать sklearn.metrics.balanced_accuracy_score. Его идея, грубо говоря, в том, чтобы по каждому классу найти, какая доля объектов этого класса правильно классифицирована, а потом эти доли усреднить. Тогда у бессмысленного классификатора, который всем ставит 500, будет скор 1/5 (ведь классов 5), а чтобы получить прежние 2/3, нужно будет научиться в каждом классе правильно ставить хотя бы 2/3 меток.    \n",
    "    \n",
    "    Теперь что касается регрессии. Основых метрики две - MSE и MAE. Из первой стоит извлекать корень, чтобы получать интерпретируемые человеком значения, а вторая менее агрессивна к выбросам (впрочем, выбросов тут уже нет, мы их все выкинули). Без дополнительной информации не очень понятно, какую выбирать, можно брать любую. А выбирать надо: ведь даже банальные модели \"предсказывай всегда среднее\" и \"предсказывай всегда медиану\" будут по-разному ранжироваться этими метриками.\n",
    "    \n",
    "</details>"
   ]
  },
  {
   "cell_type": "markdown",
   "metadata": {
    "id": "vs-jkCj-GH7G"
   },
   "source": [
    "**Вопрос третий**: а не взять ли нам какую-нибудь более экзотическую метрику? Например, MAPE (определение в учебнике в главе про оценку качества моделей). А как вам такое соображение: допустим, заказчик говорит, что пользователи будут расстраиваться, только если мы завысили средний чек - так давайте поправим MSE или MAE, обнуляя те слагаемые, для которых предсказанный таргет меньше истинного. Вот это хорошая метрика или нет?\n",
    "\n",
    "&nbsp;\n",
    "\n",
    "<details>\n",
    "  <summary>Когда будете готовы, кликните сюда, чтобы посмотреть ответ</summary>\n",
    "    \n",
    "    Что касается MAPE, у нас нет тех проблем, с которой она борется. Вот если бы у нас были средние чеки от 500 до миллиона, мы бы столкнулись с ситуацией, что большие ошибки для больших чеков доминировали бы в сумме для MSE и MAE (500 вместо 1000 меркнет по сравнению с 500к вместо миллиона). Говоря поэтически, мы бы оптимизировали модель для миллионеров, забыв про простых трудяг. И было бы логично перейти от парадигмы \"ошибаемся на 500 рублей\" к парадигме \"ошибаемся на 50%\". Но у нас все таргеты примерно одного порядка, MAPE нам особо ни к чему.\n",
    "    \n",
    "    Вторая метрика коварна тем, что её можно \"накрутить\" безо всякой пользы для дела. А именно, модель, которая всегда предсказывает средний чек в миллион, была бы идеальна. Но все бы расстраивались и не ходили есть. Другое дело, что можно ввести разные веса для ошибок в большую и в меньшую сторону, но опять же - пока нет показаний к тому, что это нужно.\n",
    "    \n",
    "</details>"
   ]
  },
  {
   "cell_type": "markdown",
   "metadata": {
    "id": "VCjV_SoAGH7G"
   },
   "source": [
    "## Применяем ML"
   ]
  },
  {
   "cell_type": "markdown",
   "metadata": {
    "id": "lqkvcLSPGH7G"
   },
   "source": [
    "Теперь время разбить данные на обучающую и тестовую выборку. Делается это с помощью функции ``train_test_split`` из пакета ``sklearn``. При этом очень важно сделать две вещи:\n",
    "\n",
    "* Зафиксировать ``random_state=42`` (да, именно этот, а то ваши модели могут не зайти в Контест), чтобы всё, что мы делаем, было воспроизводимо (иначе от перезапуска к перезапуску числа могут меняться, и мы не будем понимать, из-за чего это происходит).\n",
    "* Сделать стратификацию по таргету. В противном случае у нас в трейне и тесте могут оказаться разные пропорции классов (обычно особенно страдают мало представленные классы), что неутешительно скажется на результате.\n",
    "\n",
    "**Обратите внимание**, что если вы побьёте выборку на train и test по-другому, ваши результаты могут не зайти в контест."
   ]
  },
  {
   "cell_type": "code",
   "metadata": {
    "id": "AF2IVpOjGH7H",
    "ExecuteTime": {
     "end_time": "2024-12-19T09:55:54.362268Z",
     "start_time": "2024-12-19T09:55:54.334959Z"
    }
   },
   "source": [
    "clean_data_train, clean_data_test = train_test_split(\n",
    "    clean_data, stratify=clean_data['average_bill'], test_size=0.33, random_state=42)"
   ],
   "outputs": [],
   "execution_count": 41
  },
  {
   "cell_type": "markdown",
   "metadata": {
    "id": "S161veFJGH7H"
   },
   "source": [
    "Теперь нам нужен **бейзлайн** - очень простая модель, с которой мы в дальнейшем будем сравниваться.\n",
    "\n",
    "Поскольку мы ещё не знаем никаких умных классов моделей, все модели мы будем писать руками. А именно, мы напишем две простых модели на основе ``sklearn.baseRegressorMixin`` и ``sklearn.base.ClassifierMixin`` (посмотрите примеры в документации sklearn и сделайте так же):\n",
    "\n",
    "* Модель для задачи регрессии, которая для всех заведений предсказывает одно число — среднее значение среднего чека;\n",
    "* Модель для задачи классификации, которая для всех заведений предсказывает один класс — самый частый класс (ироничным образом он в данном случае совпадает с медианой).\n",
    "\n",
    "**Важно!** Мы будем много раз повторять вам мантру о том, что **информация из тестовой выборки не должна протекать в процесс обучения**. Так вот, и среднее, и самый частый класс вы должны считать именно на обучающей выборке!\n",
    "\n",
    "**5 и 6. Напишите эти две модели и сдайте в Контест**. В процессе проверки модели будут и обучаться, и предсказывать.\n",
    "\n",
    "Заметим, что для этих моделей нам вообще не нужны какие-то \"фичи\"; мы работаем только с таргетом.\n",
    "\n",
    "У каждой модели есть (как минимум) два метода: `fit` (обучает модель по фичам `X` и таргету `y`) `predict` (предсказывает по фичам `X`)"
   ]
  },
  {
   "cell_type": "code",
   "metadata": {
    "id": "lLz_sxtUGH7H",
    "ExecuteTime": {
     "end_time": "2024-12-19T09:55:54.504654Z",
     "start_time": "2024-12-19T09:55:54.496276Z"
    }
   },
   "source": [
    "from scipy.stats import mode\n",
    "\n",
    "from sklearn.base import RegressorMixin\n",
    "\n",
    "class MeanRegressor(RegressorMixin):\n",
    "    # Predicts the mean of y_train\n",
    "    def fit(self, X=None, y=None):\n",
    "        '''\n",
    "        Parameters\n",
    "        ----------\n",
    "        X : array like, shape = (n_samples, n_features)\n",
    "        Training data features\n",
    "        y : array like, shape = (_samples,)\n",
    "        Training data targets\n",
    "        '''\n",
    "        pass # YOUR CODE HERE\n",
    "\n",
    "    def predict(self, X=None):\n",
    "        '''\n",
    "        Parameters\n",
    "        ----------\n",
    "        X : array like, shape = (n_samples, n_features)\n",
    "        Data to predict\n",
    "        '''\n",
    "        pass # YOUR CODE HERE\n",
    "\n",
    "from sklearn.base import ClassifierMixin\n",
    "\n",
    "class MostFrequentClassifier(ClassifierMixin):\n",
    "    # Predicts the rounded (just in case) median of y_train\n",
    "    def fit(self, X=None, y=None):\n",
    "        '''\n",
    "        Parameters\n",
    "        ----------\n",
    "        X : array like, shape = (n_samples, n_features)\n",
    "        Training data features\n",
    "        y : array like, shape = (_samples,)\n",
    "        Training data targets\n",
    "        '''\n",
    "        pass # YOUR CODE HERE\n",
    "\n",
    "    def predict(self, X=None):\n",
    "        '''\n",
    "        Parameters\n",
    "        ----------\n",
    "        X : array like, shape = (n_samples, n_features)\n",
    "        Data to predict\n",
    "        '''\n",
    "        pass # YOUR CODE HERE"
   ],
   "outputs": [],
   "execution_count": 42
  },
  {
   "cell_type": "markdown",
   "metadata": {
    "id": "lo2pNhVoGH7I"
   },
   "source": [
    "Обучим наши модели"
   ]
  },
  {
   "cell_type": "code",
   "metadata": {
    "id": "arXlaGnTGH7I",
    "ExecuteTime": {
     "end_time": "2024-12-19T09:55:54.670784Z",
     "start_time": "2024-12-19T09:55:54.664507Z"
    }
   },
   "source": [
    "reg = MeanRegressor()\n",
    "reg.fit(y=clean_data_train['average_bill'])\n",
    "\n",
    "clf = MostFrequentClassifier()\n",
    "clf.fit(y=clean_data_train['average_bill'])"
   ],
   "outputs": [],
   "execution_count": 43
  },
  {
   "cell_type": "markdown",
   "metadata": {
    "id": "jJG8x0tmGH7I"
   },
   "source": [
    "Обучите модели и оцените их качество на тестовой выборке. В качестве метрик возьмём RMSE (``np.sqrt`` от ``sklearn.metrics.mean_squared_error``) и ``sklearn.metrics.balanced_accuracy_score``.\n",
    "\n",
    "Для регрессионной модели имеет смысл считать только RMSE (значения будут не кратны 500, точно мы угадывать не будем никогда), а вот для классификационной можно найти обе метрики. Сделайте это. Какая модель оказалась лучше по RMSE?"
   ]
  },
  {
   "cell_type": "markdown",
   "metadata": {
    "id": "kvZwp54sGH7J"
   },
   "source": [
    "<details>\n",
    "  <summary>Когда будете готовы, кликните сюда</summary>\n",
    "    \n",
    "  Казалось бы, регрессор никогда не угадывает, но он в каком-то смысле лучше классификатора - справедливо ли это? Возможно. Несуществующий пользователь модели вряд ли будет задавать вопросы \"почему средний чек не кратен 500?\" Ну, выдали около 800 - ок, понятно.\n",
    "    \n",
    "</details>"
   ]
  },
  {
   "cell_type": "markdown",
   "metadata": {
    "id": "V-1-O9GyGH7J"
   },
   "source": [
    "## Усложнение модели"
   ]
  },
  {
   "cell_type": "markdown",
   "metadata": {
    "id": "dGWgxl0VGH7J"
   },
   "source": [
    "Бейзлайны будут нашей отправной точкой. Строя дальнейшие модели, мы будем спрашивать себя: получилось ли лучше бейзлайна? Если нет или если не особо, то в чём смысл усложнения?"
   ]
  },
  {
   "cell_type": "markdown",
   "metadata": {
    "id": "9w3DkuuFGH7K"
   },
   "source": [
    "Начнём с использования фичи ``city``. Мы уже видели, что в разных городах и средние чеки разные. Легко проверить, что *медиана* средних чеков всё же одна и та же и в Москве, и в Санкт-Петербурге (ох уж этот вездесущий средний чек 500!), поэтому с классификатором мы ничего не сделаем. Но вот регрессор можно попробовать починить.\n",
    "\n",
    "**7. Напишите регрессор, для каждого заведения предсказывающий среднее значение в том же городе (на обучающей выборке, конечно) и сдайте его в Контест**. Вам может помочь то, что булевы `pandas` и `numpy` столбцы можно умножать на численные — в такой ситуации False работает, как ноль, а True как единица."
   ]
  },
  {
   "cell_type": "code",
   "metadata": {
    "id": "ZULQVPe2GH7K",
    "ExecuteTime": {
     "end_time": "2024-12-19T09:55:54.830060Z",
     "start_time": "2024-12-19T09:55:54.819772Z"
    }
   },
   "source": [
    "from sklearn.base import RegressorMixin\n",
    "\n",
    "class CityMeanRegressor(RegressorMixin):\n",
    "    def fit(self, X=None, y=None):\n",
    "        pass # YOUR CODE HERE\n",
    "\n",
    "    def predict(self, X=None):\n",
    "        pass # YOUR CODE HERE"
   ],
   "outputs": [],
   "execution_count": 44
  },
  {
   "cell_type": "markdown",
   "metadata": {
    "id": "1EeFGk24GH7K"
   },
   "source": [
    "Обучите регрессор и сравните его по метрике RMSE с бейзлайнами. Получилось ли улучшить метрику?"
   ]
  },
  {
   "cell_type": "markdown",
   "metadata": {
    "id": "jROycei1GH7L"
   },
   "source": [
    "Лучше стало, но, правда, не очень сильно. В этот момент очень важно не просто радовать руководителя приростом в третьем знаке, но и думать о том, что происходит.\n",
    "\n",
    "Средний средний чек по Москве равен 793, в Санкт-Петербурге - 676, а в целом - 752 рубля. MSE, увы, не поможет вам ответить на вопрос, стало ли лучше пользователю, если вы ему вместо 752 рублей назвали 793. Здесь вскрывается весьма существенный порок MSE в этой задаче. Дело в том, что наш изначальный таргет делит заведения на некоторые \"ценовые категории\", и различие в средних чеках 500 и 1000 в самом деле существенно. Наверное, мы хотели бы как раз правильно предсказывать ценовые категории. Но MSE не очень помогает нам об этом судить. Дальше мы ещё подумаем, как это исправить.\n",
    "\n",
    "В любом случае, несмотря на улучшение метрики, мы пока не можем судить, стало ли по жизни лучше от усложнения модели."
   ]
  },
  {
   "cell_type": "markdown",
   "metadata": {
    "id": "wEQ9eOoWGH7L"
   },
   "source": [
    "Поручинившись немного, возьмём на вооружение другую идею. Давайте использовать типы заведений!\n",
    "\n",
    "Но с типами есть некоторая проблема: в столбце ``rubrics_id`` не всегда один идентификатор, часто их несколько, и всего комбинаций довольно много. Чтобы не возиться с малочисленными типами, давайте сольём их в один безликий ``other``.\n",
    "\n",
    "Итак, добавьте в обучающие и тестовые данные столбец ``modified_rubrics``, в котором будет то же, что и в ``rubrics_id``, если соответствующая комбинация рубрик содержит хотя бы 100 заведений из обучающей (!) выборки, и строка ``other`` в противном случае.\n",
    "\n",
    "Здесь вам поможет контейнер ``Counter`` из библиотеки ``collections``."
   ]
  },
  {
   "cell_type": "code",
   "metadata": {
    "id": "uTVW5KkwGH7L",
    "ExecuteTime": {
     "end_time": "2024-12-19T09:55:54.919379Z",
     "start_time": "2024-12-19T09:55:54.913673Z"
    }
   },
   "source": [
    "# your code"
   ],
   "outputs": [],
   "execution_count": 45
  },
  {
   "cell_type": "markdown",
   "metadata": {
    "id": "nZXhpBjnGH7L"
   },
   "source": [
    "Теперь настало время написать могучий классификатор, который по заведению предсказывает медиану средних чеков среди тех в обучающей выборке, у которых с ним одинаковые `modified_rubrics` и город (вы спросите, почему медиану, а не самый частый -- спишем это на вдохновение; самый частый тоже можно брать - но медиана работает лучше).\n",
    "\n",
    "**8. Напишите классификатор и сдайте в Контест**."
   ]
  },
  {
   "cell_type": "code",
   "metadata": {
    "id": "eTfcwh5dGH7M",
    "ExecuteTime": {
     "end_time": "2024-12-19T09:55:55.040779Z",
     "start_time": "2024-12-19T09:55:55.034832Z"
    }
   },
   "source": [
    "# your code"
   ],
   "outputs": [],
   "execution_count": 46
  },
  {
   "cell_type": "markdown",
   "metadata": {
    "id": "xbgjbwgkGH7M"
   },
   "source": [
    "Сравните обученный классификатор по метрикам RMSE и balanced_accuracy_score с нашими бейзлайнами. Получилось ли улучшить?"
   ]
  },
  {
   "cell_type": "markdown",
   "metadata": {
    "id": "UMjsnCnQGH7M"
   },
   "source": [
    "Обратите внимание что рост accuracy по сравнению с бейзлайном при этом на порядок меньше:"
   ]
  },
  {
   "cell_type": "markdown",
   "metadata": {
    "id": "K2cF0I-CGH7M"
   },
   "source": [
    "accuracy_score\n",
    "\n",
    "Predict most frequent:  0.6947666195190948\n",
    "\n",
    "Predict by rubric and city:  0.7095709570957096"
   ]
  },
  {
   "cell_type": "markdown",
   "metadata": {
    "id": "ylrAIjCcGH7N"
   },
   "source": [
    "Для диагностики напечатайте для каждого класса тестовой выборки, сколько в нём объектов и скольким из них наш классификатор приписал правильный класс. Что вы видите?\n",
    "\n",
    "&nbsp;\n",
    "\n",
    "<details>\n",
    "  <summary>Когда будете готовы, кликните сюда, чтобы посмотреть ответ</summary>\n",
    "    \n",
    "  Вы, вероятно, видите то, что мы стали однозначно лучше по сравнению с бейзлайном детектировать средний чек 1000 и 1500 (хотя всё равно не очень хорошо + ценой ухудшения качества на среднем чеке 500), а вот чеки 2000 и 2500 нам ну никак не даются.\n",
    "    \n",
    "</details>"
   ]
  },
  {
   "cell_type": "markdown",
   "metadata": {
    "id": "9ScOy7ZvGH7N"
   },
   "source": [
    "**Кстати**. А вы понимаете, почему приведённый выше пайплайн классификации был не очень удачным с точки зрения архитектуры? Почему его было бы правильнее воплотить по-другому?\n",
    "\n",
    "&nbsp;\n",
    "\n",
    "<details>\n",
    "  <summary>Когда будете готовы, кликните сюда, чтобы посмотреть ответ</summary>\n",
    "Собственно говоря, и не было никакого пайплайна. К счастью, у нас была одна обучающая выборка, мы на ней посчитали список рубрик для modified_rubrics и радовались жизни. Но если бы нам надо было переобучать всё на новых данных, пришлось бы помнить, что их надо везде пересчитать (ведь у нас могли появиться новые рубрики с хотя бы 100 представителями). А уж никакую кросс-валидацию (кто знает - тот поймёт) с нашим подходом к делу и вовсе бы не получилось сделать без боли.\n",
    "    \n",
    "Поэтому в следующей лабораторной вы научитесь делать честные пайплайны, в которых преобразование данных, генерация фичей и обучение классификатора будут объединены в один понятный процесс, происходящий на этапе fit.\n",
    "</details>"
   ]
  },
  {
   "cell_type": "markdown",
   "metadata": {
    "id": "4ujl3tbbGH7N"
   },
   "source": [
    "## Слишком простые и слишком сложные модели"
   ]
  },
  {
   "cell_type": "markdown",
   "metadata": {
    "id": "QF7McCHsGH7N"
   },
   "source": [
    "Бейзлайны у нас слишком просты и потому не очень полезны в жизни. Но если сложность модели растёт бесконтрольно, то тоже получается плохо.\n",
    "\n",
    "Давайте рассмотрим конкретный пример. Создадим классификатор, использующий одновременно `rubrics_id` и `features_id`.\n",
    "\n",
    "Сделайте следующее:\n",
    "\n",
    "- для каждого объекта обучающей выборки сконкатенируйте строку `rubrics_id` с разделителем (например, буквой 'q') и содержимым `features_id`. Полученный столбец озаглавьте `modified_features`. Это не самый клёвый способ заиспользовать все фичи, но сейчас пока сойдёт. Причём на сей раз не будем выкидывать мало представленные значения (вся информация важна, не так ли?).\n",
    "- при этом для тестовой выборке заменяйте на строку `other` все конкатенации, которые не встретились в обучающей выборке.\n",
    "\n",
    "То есть элементы в этом столбце будут иметь вид `other` или `30776 30774 q 3502045032 11741 3502045016 1046...`."
   ]
  },
  {
   "cell_type": "markdown",
   "metadata": {
    "id": "e8tNBPzVGH7O"
   },
   "source": [
    "Теперь обучите классификатор, который для заведения предсказывает медиану среднего чека по всем объектам тестовой выборки с таким же, как у него, значением `modified_features`, а если такого в обучающей выборке нет, то глобальную медиану среднего чека по всей обучающей выборке.\n",
    "\n",
    "**9. Загрузите в Контест предсказания этого классификатора на тестовой выборке**\n",
    "\n",
    "Мы ждём файла **.csv**, у которого в каждой строке будет только одно число - предсказание классификатора.\n",
    "\n",
    "Возможно, вам будет полезна библиотека ``tqdm``, позволяющая отслеживать в реальном времени, сколько времени уже крутится цикл и сколько итераций ещё осталось. Впрочем, если вы всё написали нормально, то должно работать не очень долго."
   ]
  },
  {
   "cell_type": "markdown",
   "metadata": {
    "id": "_XrswPW4GH7O"
   },
   "source": [
    "Модель, очевидно, очень сложная. Число параметров (различных категорий) в ней сопоставимо с числом объектов в обучающей выборке. А получилось ли хорошо?\n",
    "\n",
    "Давайте посчитаем RMSE и balanced_accuracy_score на обучающей и на тестовой выборках.\n",
    "\n",
    "**10. Введите их в Контест**"
   ]
  },
  {
   "cell_type": "markdown",
   "metadata": {
    "id": "fGDTpxFgGH7O"
   },
   "source": [
    "Налицо переобучение: на трейне метрики отличные, на тесте - вообще никакие\n",
    "\n",
    "В общем, не гонитесь за чрезмерной сложностью модели.."
   ]
  },
  {
   "cell_type": "markdown",
   "metadata": {
    "id": "YTU2yubYGH7O"
   },
   "source": [
    "## ML без данных что компутер без электричества"
   ]
  },
  {
   "cell_type": "markdown",
   "metadata": {
    "id": "DBVOCVf2GH7P"
   },
   "source": [
    "Возможно, вы смотрите на полученные выше результаты и думаете: вот если бы мы не какие-то убогие медианы предсказывали, а гоняли бы нейросети, то тут-то бы всё и получилось!\n",
    "\n",
    "Но, увы, совсем даже не всегда от счастья нас отделяет выбор хорошей модели (и стратегии обучения). Если данные не очень, то даже самая крутая модель не сработает. В этой ситуации нужно либо добывать новые фичи каким-то образом, либо собирать новые данные (увеличивать датасет), либо просто бросать задачу.\n",
    "\n",
    "Давайте посмотрим, что выжмет из наших данных одна из самых мощных моделей для табличных данных - градиентный бустинг на решающих деревьях в исполнении [CatBoost](https://catboost.ai/)."
   ]
  },
  {
   "cell_type": "markdown",
   "metadata": {
    "id": "a0L4UmzSGH7P"
   },
   "source": [
    "Но прежде, чем сделать fit, нам надо облагородить данные. Несмотря на то, что CatBoost отлично работает с категориальными фичами, мешок признаков из `rubrics_id` или `features_id` может ему оказаться не по зубам. Поэтому мы соберём датасет в пристойную матрицу, создав для каждого типа рубрик и фичей отдельный столбец и записав там единицы для тех объектов, у которых эта рубрика или фича имеет место.\n",
    "\n",
    "В матрице почти все элементы будут нулями. Такие матрицы считаются **разреженными** и их можно хранить гораздо эффективней, чем просто таблицей. Этим и займёмся)"
   ]
  },
  {
   "cell_type": "markdown",
   "metadata": {
    "id": "IJKuMtNbGH7P"
   },
   "source": [
    "Есть несколько форматов хранения разреженных матриц (многие из них реализованы в [пакете sparse библиотеки scipy](https://docs.scipy.org/doc/scipy/reference/sparse.html)), и каждый пригоден для чего-то своего.\n",
    "\n",
    "Создавать разреженную матрицу лучше в [формате COO](https://docs.scipy.org/doc/scipy/reference/generated/scipy.sparse.coo_array.html#scipy.sparse.coo_array). Он предполагает, что разреженная матрица задаётся в виде трёх списков: `row`, `col`, `data`, причём каждая тройка `(row[i], col[i], data[i])` кодирует элемент со значением `data[i]`, стоящий на позиции `(row[i], col[i])`. Считается, что на позициях `(row, col)`, которые ни разу не встретились, стоят нули.\n",
    "\n",
    "Нетрудно видеть, что заполнять такую матрицу - одно удовольствие, и особенно этому помогает тот факт, что **пара `(row, col)` может встретиться несколько раз** (тогда в итоговой матрице на соответствующей позиции стоит сумма соответствующих `data[i]`). Но, с другой стороны, почти ничего другого с такой матрицей не сделаешь: произвольного доступа к элементам она не предоставляет, умножить её тоже особо ничего не умножишь. Поэтому для дальнейшего использования созданную таким образом матрицу преобразуют в один из более удобных форматов, например, [CSR (compressed sparse row)](https://scipy-lectures.org/advanced/scipy_sparse/csr_matrix.html). Он, к примеру, хорошо подходит для умножения на вектор (потому что матрица хранится по строкам). Не будем разбирать его подробно, но можете почитать по ссылке, если интересно."
   ]
  },
  {
   "cell_type": "markdown",
   "metadata": {
    "id": "2hd_Sob3GH7P"
   },
   "source": [
    "Вам нужно будет превратить обучающие и тестовые данные в разреженные матрицы `sparse_data_train` и `sparse_data_test` соответственно, таким образом, что:\n",
    "\n",
    "- столбец `city` превратится в столбец из единиц и нулей (например, 1 - Москва, 0 - Питер);\n",
    "- столбец `rating` перекочует в разреженные матрицы без изменений;\n",
    "- каждый типы рубрик и каждая фича превратятся в отдельный 0-1-принак;\n",
    "\n",
    "В тестовой выборке будут фичи, которых в обучающей выборке не было. С ними можно по-разному работать, но давайте создадим дополнительную фантомную фичу `feature_other`, в которой будет то, сколько неизвестных по обучающей выборке фичей есть у данного объекта."
   ]
  },
  {
   "cell_type": "code",
   "metadata": {
    "id": "7-UAatGJGH7P",
    "ExecuteTime": {
     "end_time": "2024-12-19T09:55:55.111868Z",
     "start_time": "2024-12-19T09:55:55.105613Z"
    }
   },
   "source": [
    "# <Your code here>"
   ],
   "outputs": [],
   "execution_count": 47
  },
  {
   "cell_type": "markdown",
   "metadata": {
    "id": "lFfj-1E4GH7Q"
   },
   "source": [
    "Данные готовы, и теперь можно запустить катбуст"
   ]
  },
  {
   "cell_type": "code",
   "metadata": {
    "id": "m2lP5NouGH7Q",
    "ExecuteTime": {
     "end_time": "2024-12-19T09:55:55.171243Z",
     "start_time": "2024-12-19T09:55:55.145096Z"
    }
   },
   "source": [
    "from catboost import CatBoostClassifier"
   ],
   "outputs": [
    {
     "ename": "ModuleNotFoundError",
     "evalue": "No module named 'catboost'",
     "output_type": "error",
     "traceback": [
      "\u001B[1;31m---------------------------------------------------------------------------\u001B[0m",
      "\u001B[1;31mModuleNotFoundError\u001B[0m                       Traceback (most recent call last)",
      "Cell \u001B[1;32mIn[48], line 1\u001B[0m\n\u001B[1;32m----> 1\u001B[0m \u001B[38;5;28;01mfrom\u001B[39;00m \u001B[38;5;21;01mcatboost\u001B[39;00m \u001B[38;5;28;01mimport\u001B[39;00m CatBoostClassifier\n",
      "\u001B[1;31mModuleNotFoundError\u001B[0m: No module named 'catboost'"
     ]
    }
   ],
   "execution_count": 48
  },
  {
   "cell_type": "code",
   "execution_count": null,
   "metadata": {
    "id": "jpW6uR0oGH7Q"
   },
   "outputs": [],
   "source": [
    "# <USE IT!>\n",
    "clf = CatBoostClassifier()\n",
    "clf.fit(sparse_data_train, clean_data_train['average_bill'])"
   ]
  },
  {
   "cell_type": "markdown",
   "metadata": {
    "id": "SBOpZY9BGH7Q"
   },
   "source": [
    "**11. Пришлите в Контест balanced_accuracy_score на тестовой выборке, округлённый до двух знаков после запятой**. Стало ли сильно лучше от того, что мы воспользовались таким крутым классификатором?"
   ]
  }
 ],
 "metadata": {
  "colab": {
   "provenance": []
  },
  "kernelspec": {
   "display_name": "Python 3 (ipykernel)",
   "language": "python",
   "name": "python3"
  },
  "language_info": {
   "codemirror_mode": {
    "name": "ipython",
    "version": 3
   },
   "file_extension": ".py",
   "mimetype": "text/x-python",
   "name": "python",
   "nbconvert_exporter": "python",
   "pygments_lexer": "ipython3",
   "version": "3.12.7"
  }
 },
 "nbformat": 4,
 "nbformat_minor": 4
}
